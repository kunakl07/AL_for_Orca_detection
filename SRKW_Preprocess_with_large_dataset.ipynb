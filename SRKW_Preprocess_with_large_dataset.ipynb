{
  "nbformat": 4,
  "nbformat_minor": 0,
  "metadata": {
    "colab": {
      "name": "SRKW_Preprocess_with_large_dataset.ipynb",
      "provenance": [],
      "authorship_tag": "ABX9TyM7EwPjaURh6VVQOZR61hCi",
      "include_colab_link": true
    },
    "kernelspec": {
      "name": "python3",
      "display_name": "Python 3"
    },
    "accelerator": "GPU"
  },
  "cells": [
    {
      "cell_type": "markdown",
      "metadata": {
        "id": "view-in-github",
        "colab_type": "text"
      },
      "source": [
        "<a href=\"https://colab.research.google.com/github/kunakl07/AL_for_Orca_detection/blob/master/SRKW_Preprocess_with_large_dataset.ipynb\" target=\"_parent\"><img src=\"https://colab.research.google.com/assets/colab-badge.svg\" alt=\"Open In Colab\"/></a>"
      ]
    },
    {
      "cell_type": "code",
      "metadata": {
        "id": "0PRbM_QErNcZ",
        "colab_type": "code",
        "outputId": "a70393b0-fe5a-435e-fa74-187ce25830b7",
        "colab": {
          "base_uri": "https://localhost:8080/",
          "height": 1000
        }
      },
      "source": [
        "%%bash\n",
        "apt-get install awscli"
      ],
      "execution_count": 0,
      "outputs": [
        {
          "output_type": "stream",
          "text": [
            "Reading package lists...\n",
            "Building dependency tree...\n",
            "Reading state information...\n",
            "The following additional packages will be installed:\n",
            "  docutils-common python3-botocore python3-certifi python3-chardet\n",
            "  python3-colorama python3-dateutil python3-docutils python3-idna\n",
            "  python3-jmespath python3-olefile python3-pil python3-pkg-resources\n",
            "  python3-pyasn1 python3-pygments python3-requests python3-roman python3-rsa\n",
            "  python3-s3transfer python3-six python3-urllib3 python3-yaml sgml-base\n",
            "  xml-core\n",
            "Suggested packages:\n",
            "  docutils-doc fonts-linuxlibertine | ttf-linux-libertine texlive-lang-french\n",
            "  texlive-latex-base texlive-latex-recommended python-pil-doc python3-pil-dbg\n",
            "  python3-setuptools ttf-bitstream-vera python3-cryptography python3-openssl\n",
            "  python3-socks sgml-base-doc debhelper\n",
            "The following NEW packages will be installed:\n",
            "  awscli docutils-common python3-botocore python3-certifi python3-chardet\n",
            "  python3-colorama python3-dateutil python3-docutils python3-idna\n",
            "  python3-jmespath python3-olefile python3-pil python3-pkg-resources\n",
            "  python3-pyasn1 python3-pygments python3-requests python3-roman python3-rsa\n",
            "  python3-s3transfer python3-six python3-urllib3 python3-yaml sgml-base\n",
            "  xml-core\n",
            "0 upgraded, 24 newly installed, 0 to remove and 29 not upgraded.\n",
            "Need to get 4,566 kB of archives.\n",
            "After this operation, 41.9 MB of additional disk space will be used.\n",
            "Get:1 http://archive.ubuntu.com/ubuntu bionic/main amd64 sgml-base all 1.29 [12.3 kB]\n",
            "Get:2 http://archive.ubuntu.com/ubuntu bionic/main amd64 python3-yaml amd64 3.12-1build2 [109 kB]\n",
            "Get:3 http://archive.ubuntu.com/ubuntu bionic/main amd64 python3-six all 1.11.0-2 [11.4 kB]\n",
            "Get:4 http://archive.ubuntu.com/ubuntu bionic/main amd64 python3-dateutil all 2.6.1-1 [52.3 kB]\n",
            "Get:5 http://archive.ubuntu.com/ubuntu bionic/main amd64 xml-core all 0.18 [21.3 kB]\n",
            "Get:6 http://archive.ubuntu.com/ubuntu bionic/main amd64 docutils-common all 0.14+dfsg-3 [156 kB]\n",
            "Get:7 http://archive.ubuntu.com/ubuntu bionic/main amd64 python3-roman all 2.0.0-3 [8,624 B]\n",
            "Get:8 http://archive.ubuntu.com/ubuntu bionic/main amd64 python3-docutils all 0.14+dfsg-3 [363 kB]\n",
            "Get:9 http://archive.ubuntu.com/ubuntu bionic/universe amd64 python3-jmespath all 0.9.3-1ubuntu1 [18.7 kB]\n",
            "Get:10 http://archive.ubuntu.com/ubuntu bionic/main amd64 python3-certifi all 2018.1.18-2 [144 kB]\n",
            "Get:11 http://archive.ubuntu.com/ubuntu bionic/main amd64 python3-pkg-resources all 39.0.1-2 [98.8 kB]\n",
            "Get:12 http://archive.ubuntu.com/ubuntu bionic/main amd64 python3-chardet all 3.0.4-1 [80.3 kB]\n",
            "Get:13 http://archive.ubuntu.com/ubuntu bionic/main amd64 python3-idna all 2.6-1 [32.5 kB]\n",
            "Get:14 http://archive.ubuntu.com/ubuntu bionic-updates/main amd64 python3-urllib3 all 1.22-1ubuntu0.18.04.1 [86.0 kB]\n",
            "Get:15 http://archive.ubuntu.com/ubuntu bionic-updates/main amd64 python3-requests all 2.18.4-2ubuntu0.1 [58.3 kB]\n",
            "Get:16 http://archive.ubuntu.com/ubuntu bionic/universe amd64 python3-botocore all 1.8.48+repack-1 [1,764 kB]\n",
            "Get:17 http://archive.ubuntu.com/ubuntu bionic/main amd64 python3-colorama all 0.3.7-1 [14.9 kB]\n",
            "Get:18 http://archive.ubuntu.com/ubuntu bionic/main amd64 python3-pyasn1 all 0.4.2-3 [46.8 kB]\n",
            "Get:19 http://archive.ubuntu.com/ubuntu bionic/universe amd64 python3-rsa all 3.4.2-1 [29.0 kB]\n",
            "Get:20 http://archive.ubuntu.com/ubuntu bionic/universe amd64 python3-s3transfer all 0.1.13-1 [39.8 kB]\n",
            "Get:21 http://archive.ubuntu.com/ubuntu bionic/universe amd64 awscli all 1.14.44-1ubuntu1 [482 kB]\n",
            "Get:22 http://archive.ubuntu.com/ubuntu bionic/main amd64 python3-olefile all 0.45.1-1 [33.3 kB]\n",
            "Get:23 http://archive.ubuntu.com/ubuntu bionic-updates/main amd64 python3-pil amd64 5.1.0-1ubuntu0.2 [329 kB]\n",
            "Get:24 http://archive.ubuntu.com/ubuntu bionic/main amd64 python3-pygments all 2.2.0+dfsg-1 [574 kB]\n",
            "Fetched 4,566 kB in 1s (3,122 kB/s)\n",
            "Selecting previously unselected package sgml-base.\r\n",
            "(Reading database ... \r(Reading database ... 5%\r(Reading database ... 10%\r(Reading database ... 15%\r(Reading database ... 20%\r(Reading database ... 25%\r(Reading database ... 30%\r(Reading database ... 35%\r(Reading database ... 40%\r(Reading database ... 45%\r(Reading database ... 50%\r(Reading database ... 55%\r(Reading database ... 60%\r(Reading database ... 65%\r(Reading database ... 70%\r(Reading database ... 75%\r(Reading database ... 80%\r(Reading database ... 85%\r(Reading database ... 90%\r(Reading database ... 95%\r(Reading database ... 100%\r(Reading database ... 144429 files and directories currently installed.)\r\n",
            "Preparing to unpack .../00-sgml-base_1.29_all.deb ...\r\n",
            "Unpacking sgml-base (1.29) ...\r\n",
            "Selecting previously unselected package python3-yaml.\r\n",
            "Preparing to unpack .../01-python3-yaml_3.12-1build2_amd64.deb ...\r\n",
            "Unpacking python3-yaml (3.12-1build2) ...\r\n",
            "Selecting previously unselected package python3-six.\r\n",
            "Preparing to unpack .../02-python3-six_1.11.0-2_all.deb ...\r\n",
            "Unpacking python3-six (1.11.0-2) ...\r\n",
            "Selecting previously unselected package python3-dateutil.\r\n",
            "Preparing to unpack .../03-python3-dateutil_2.6.1-1_all.deb ...\r\n",
            "Unpacking python3-dateutil (2.6.1-1) ...\r\n",
            "Selecting previously unselected package xml-core.\r\n",
            "Preparing to unpack .../04-xml-core_0.18_all.deb ...\r\n",
            "Unpacking xml-core (0.18) ...\r\n",
            "Selecting previously unselected package docutils-common.\r\n",
            "Preparing to unpack .../05-docutils-common_0.14+dfsg-3_all.deb ...\r\n",
            "Unpacking docutils-common (0.14+dfsg-3) ...\r\n",
            "Selecting previously unselected package python3-roman.\r\n",
            "Preparing to unpack .../06-python3-roman_2.0.0-3_all.deb ...\r\n",
            "Unpacking python3-roman (2.0.0-3) ...\r\n",
            "Selecting previously unselected package python3-docutils.\r\n",
            "Preparing to unpack .../07-python3-docutils_0.14+dfsg-3_all.deb ...\r\n",
            "Unpacking python3-docutils (0.14+dfsg-3) ...\r\n",
            "Selecting previously unselected package python3-jmespath.\r\n",
            "Preparing to unpack .../08-python3-jmespath_0.9.3-1ubuntu1_all.deb ...\r\n",
            "Unpacking python3-jmespath (0.9.3-1ubuntu1) ...\r\n",
            "Selecting previously unselected package python3-certifi.\r\n",
            "Preparing to unpack .../09-python3-certifi_2018.1.18-2_all.deb ...\r\n",
            "Unpacking python3-certifi (2018.1.18-2) ...\r\n",
            "Selecting previously unselected package python3-pkg-resources.\r\n",
            "Preparing to unpack .../10-python3-pkg-resources_39.0.1-2_all.deb ...\r\n",
            "Unpacking python3-pkg-resources (39.0.1-2) ...\r\n",
            "Selecting previously unselected package python3-chardet.\r\n",
            "Preparing to unpack .../11-python3-chardet_3.0.4-1_all.deb ...\r\n",
            "Unpacking python3-chardet (3.0.4-1) ...\r\n",
            "Selecting previously unselected package python3-idna.\r\n",
            "Preparing to unpack .../12-python3-idna_2.6-1_all.deb ...\r\n",
            "Unpacking python3-idna (2.6-1) ...\r\n",
            "Selecting previously unselected package python3-urllib3.\r\n",
            "Preparing to unpack .../13-python3-urllib3_1.22-1ubuntu0.18.04.1_all.deb ...\r\n",
            "Unpacking python3-urllib3 (1.22-1ubuntu0.18.04.1) ...\r\n",
            "Selecting previously unselected package python3-requests.\r\n",
            "Preparing to unpack .../14-python3-requests_2.18.4-2ubuntu0.1_all.deb ...\r\n",
            "Unpacking python3-requests (2.18.4-2ubuntu0.1) ...\r\n",
            "Selecting previously unselected package python3-botocore.\r\n",
            "Preparing to unpack .../15-python3-botocore_1.8.48+repack-1_all.deb ...\r\n",
            "Unpacking python3-botocore (1.8.48+repack-1) ...\r\n",
            "Selecting previously unselected package python3-colorama.\r\n",
            "Preparing to unpack .../16-python3-colorama_0.3.7-1_all.deb ...\r\n",
            "Unpacking python3-colorama (0.3.7-1) ...\r\n",
            "Selecting previously unselected package python3-pyasn1.\r\n",
            "Preparing to unpack .../17-python3-pyasn1_0.4.2-3_all.deb ...\r\n",
            "Unpacking python3-pyasn1 (0.4.2-3) ...\r\n",
            "Selecting previously unselected package python3-rsa.\r\n",
            "Preparing to unpack .../18-python3-rsa_3.4.2-1_all.deb ...\r\n",
            "Unpacking python3-rsa (3.4.2-1) ...\r\n",
            "Selecting previously unselected package python3-s3transfer.\r\n",
            "Preparing to unpack .../19-python3-s3transfer_0.1.13-1_all.deb ...\r\n",
            "Unpacking python3-s3transfer (0.1.13-1) ...\r\n",
            "Selecting previously unselected package awscli.\r\n",
            "Preparing to unpack .../20-awscli_1.14.44-1ubuntu1_all.deb ...\r\n",
            "Unpacking awscli (1.14.44-1ubuntu1) ...\r\n",
            "Selecting previously unselected package python3-olefile.\r\n",
            "Preparing to unpack .../21-python3-olefile_0.45.1-1_all.deb ...\r\n",
            "Unpacking python3-olefile (0.45.1-1) ...\r\n",
            "Selecting previously unselected package python3-pil:amd64.\r\n",
            "Preparing to unpack .../22-python3-pil_5.1.0-1ubuntu0.2_amd64.deb ...\r\n",
            "Unpacking python3-pil:amd64 (5.1.0-1ubuntu0.2) ...\r\n",
            "Selecting previously unselected package python3-pygments.\r\n",
            "Preparing to unpack .../23-python3-pygments_2.2.0+dfsg-1_all.deb ...\r\n",
            "Unpacking python3-pygments (2.2.0+dfsg-1) ...\r\n",
            "Setting up python3-yaml (3.12-1build2) ...\r\n",
            "Setting up python3-roman (2.0.0-3) ...\r\n",
            "Setting up python3-pil:amd64 (5.1.0-1ubuntu0.2) ...\r\n",
            "Setting up python3-olefile (0.45.1-1) ...\r\n",
            "Setting up python3-idna (2.6-1) ...\r\n",
            "Setting up python3-six (1.11.0-2) ...\r\n",
            "Setting up python3-colorama (0.3.7-1) ...\r\n",
            "Setting up python3-certifi (2018.1.18-2) ...\r\n",
            "Setting up sgml-base (1.29) ...\r\n",
            "Setting up python3-pkg-resources (39.0.1-2) ...\r\n",
            "Setting up python3-pyasn1 (0.4.2-3) ...\r\n",
            "Setting up python3-chardet (3.0.4-1) ...\r\n",
            "Setting up python3-urllib3 (1.22-1ubuntu0.18.04.1) ...\r\n",
            "Setting up python3-jmespath (0.9.3-1ubuntu1) ...\r\n",
            "Setting up xml-core (0.18) ...\r\n",
            "Setting up python3-dateutil (2.6.1-1) ...\r\n",
            "Setting up python3-pygments (2.2.0+dfsg-1) ...\r\n",
            "Setting up python3-rsa (3.4.2-1) ...\r\n",
            "Setting up python3-requests (2.18.4-2ubuntu0.1) ...\r\n",
            "Processing triggers for man-db (2.8.3-2ubuntu0.1) ...\r\n",
            "Processing triggers for shared-mime-info (1.9-2) ...\r\n",
            "Processing triggers for sgml-base (1.29) ...\r\n",
            "Setting up docutils-common (0.14+dfsg-3) ...\r\n",
            "Processing triggers for sgml-base (1.29) ...\r\n",
            "Setting up python3-docutils (0.14+dfsg-3) ...\r\n",
            "update-alternatives: using /usr/share/docutils/scripts/python3/rst-buildhtml to provide /usr/bin/rst-buildhtml (rst-buildhtml) in auto mode\r\n",
            "update-alternatives: using /usr/share/docutils/scripts/python3/rst2html to provide /usr/bin/rst2html (rst2html) in auto mode\r\n",
            "update-alternatives: using /usr/share/docutils/scripts/python3/rst2html4 to provide /usr/bin/rst2html4 (rst2html4) in auto mode\r\n",
            "update-alternatives: using /usr/share/docutils/scripts/python3/rst2html5 to provide /usr/bin/rst2html5 (rst2html5) in auto mode\r\n",
            "update-alternatives: using /usr/share/docutils/scripts/python3/rst2latex to provide /usr/bin/rst2latex (rst2latex) in auto mode\r\n",
            "update-alternatives: using /usr/share/docutils/scripts/python3/rst2man to provide /usr/bin/rst2man (rst2man) in auto mode\r\n",
            "update-alternatives: using /usr/share/docutils/scripts/python3/rst2odt to provide /usr/bin/rst2odt (rst2odt) in auto mode\r\n",
            "update-alternatives: using /usr/share/docutils/scripts/python3/rst2odt_prepstyles to provide /usr/bin/rst2odt_prepstyles (rst2odt_prepstyles) in auto mode\r\n",
            "update-alternatives: using /usr/share/docutils/scripts/python3/rst2pseudoxml to provide /usr/bin/rst2pseudoxml (rst2pseudoxml) in auto mode\r\n",
            "update-alternatives: using /usr/share/docutils/scripts/python3/rst2s5 to provide /usr/bin/rst2s5 (rst2s5) in auto mode\r\n",
            "update-alternatives: using /usr/share/docutils/scripts/python3/rst2xetex to provide /usr/bin/rst2xetex (rst2xetex) in auto mode\r\n",
            "update-alternatives: using /usr/share/docutils/scripts/python3/rst2xml to provide /usr/bin/rst2xml (rst2xml) in auto mode\r\n",
            "update-alternatives: using /usr/share/docutils/scripts/python3/rstpep2html to provide /usr/bin/rstpep2html (rstpep2html) in auto mode\r\n",
            "Setting up python3-botocore (1.8.48+repack-1) ...\r\n",
            "Setting up python3-s3transfer (0.1.13-1) ...\r\n",
            "Setting up awscli (1.14.44-1ubuntu1) ...\r\n"
          ],
          "name": "stdout"
        }
      ]
    },
    {
      "cell_type": "code",
      "metadata": {
        "id": "UfwtQxCJqJMi",
        "colab_type": "code",
        "outputId": "84cf8129-61f3-41f6-9980-0500b063f025",
        "colab": {
          "base_uri": "https://localhost:8080/",
          "height": 54
        }
      },
      "source": [
        "%%bash\n",
        "\n",
        "aws --no-sign-request s3 cp s3://acoustic-sandbox/labeled-data/detection/train/OrcasoundLab07052019_PodCastRound2.tar.gz /content"
      ],
      "execution_count": 0,
      "outputs": [
        {
          "output_type": "stream",
          "text": [
            "Completed 256.0 KiB/246.8 MiB (674.8 KiB/s) with 1 file(s) remaining\rCompleted 512.0 KiB/246.8 MiB (1.3 MiB/s) with 1 file(s) remaining  \rCompleted 768.0 KiB/246.8 MiB (1.8 MiB/s) with 1 file(s) remaining  \rCompleted 1.0 MiB/246.8 MiB (2.4 MiB/s) with 1 file(s) remaining    \rCompleted 1.2 MiB/246.8 MiB (3.0 MiB/s) with 1 file(s) remaining    \rCompleted 1.5 MiB/246.8 MiB (3.5 MiB/s) with 1 file(s) remaining    \rCompleted 1.8 MiB/246.8 MiB (4.1 MiB/s) with 1 file(s) remaining    \rCompleted 2.0 MiB/246.8 MiB (4.7 MiB/s) with 1 file(s) remaining    \rCompleted 2.2 MiB/246.8 MiB (5.2 MiB/s) with 1 file(s) remaining    \rCompleted 2.5 MiB/246.8 MiB (5.8 MiB/s) with 1 file(s) remaining    \rCompleted 2.8 MiB/246.8 MiB (6.4 MiB/s) with 1 file(s) remaining    \rCompleted 3.0 MiB/246.8 MiB (6.9 MiB/s) with 1 file(s) remaining    \rCompleted 3.2 MiB/246.8 MiB (7.4 MiB/s) with 1 file(s) remaining    \rCompleted 3.5 MiB/246.8 MiB (7.9 MiB/s) with 1 file(s) remaining    \rCompleted 3.8 MiB/246.8 MiB (8.4 MiB/s) with 1 file(s) remaining    \rCompleted 4.0 MiB/246.8 MiB (9.0 MiB/s) with 1 file(s) remaining    \rCompleted 4.2 MiB/246.8 MiB (9.5 MiB/s) with 1 file(s) remaining    \rCompleted 4.5 MiB/246.8 MiB (10.0 MiB/s) with 1 file(s) remaining   \rCompleted 4.8 MiB/246.8 MiB (10.6 MiB/s) with 1 file(s) remaining   \rCompleted 5.0 MiB/246.8 MiB (11.0 MiB/s) with 1 file(s) remaining   \rCompleted 5.2 MiB/246.8 MiB (11.5 MiB/s) with 1 file(s) remaining   \rCompleted 5.5 MiB/246.8 MiB (12.0 MiB/s) with 1 file(s) remaining   \rCompleted 5.8 MiB/246.8 MiB (12.5 MiB/s) with 1 file(s) remaining   \rCompleted 6.0 MiB/246.8 MiB (13.0 MiB/s) with 1 file(s) remaining   \rCompleted 6.2 MiB/246.8 MiB (13.5 MiB/s) with 1 file(s) remaining   \rCompleted 6.5 MiB/246.8 MiB (14.0 MiB/s) with 1 file(s) remaining   \rCompleted 6.8 MiB/246.8 MiB (14.5 MiB/s) with 1 file(s) remaining   \rCompleted 7.0 MiB/246.8 MiB (15.0 MiB/s) with 1 file(s) remaining   \rCompleted 7.2 MiB/246.8 MiB (15.4 MiB/s) with 1 file(s) remaining   \rCompleted 7.5 MiB/246.8 MiB (15.8 MiB/s) with 1 file(s) remaining   \rCompleted 7.8 MiB/246.8 MiB (16.3 MiB/s) with 1 file(s) remaining   \rCompleted 8.0 MiB/246.8 MiB (16.8 MiB/s) with 1 file(s) remaining   \rCompleted 8.2 MiB/246.8 MiB (17.3 MiB/s) with 1 file(s) remaining   \rCompleted 8.5 MiB/246.8 MiB (17.8 MiB/s) with 1 file(s) remaining   \rCompleted 8.8 MiB/246.8 MiB (18.3 MiB/s) with 1 file(s) remaining   \rCompleted 9.0 MiB/246.8 MiB (18.7 MiB/s) with 1 file(s) remaining   \rCompleted 9.2 MiB/246.8 MiB (19.2 MiB/s) with 1 file(s) remaining   \rCompleted 9.5 MiB/246.8 MiB (19.7 MiB/s) with 1 file(s) remaining   \rCompleted 9.8 MiB/246.8 MiB (20.2 MiB/s) with 1 file(s) remaining   \rCompleted 10.0 MiB/246.8 MiB (20.7 MiB/s) with 1 file(s) remaining  \rCompleted 10.2 MiB/246.8 MiB (21.2 MiB/s) with 1 file(s) remaining  \rCompleted 10.5 MiB/246.8 MiB (21.6 MiB/s) with 1 file(s) remaining  \rCompleted 10.8 MiB/246.8 MiB (22.1 MiB/s) with 1 file(s) remaining  \rCompleted 11.0 MiB/246.8 MiB (22.6 MiB/s) with 1 file(s) remaining  \rCompleted 11.2 MiB/246.8 MiB (23.1 MiB/s) with 1 file(s) remaining  \rCompleted 11.5 MiB/246.8 MiB (23.5 MiB/s) with 1 file(s) remaining  \rCompleted 11.8 MiB/246.8 MiB (24.0 MiB/s) with 1 file(s) remaining  \rCompleted 12.0 MiB/246.8 MiB (24.4 MiB/s) with 1 file(s) remaining  \rCompleted 12.2 MiB/246.8 MiB (24.9 MiB/s) with 1 file(s) remaining  \rCompleted 12.5 MiB/246.8 MiB (25.3 MiB/s) with 1 file(s) remaining  \rCompleted 12.8 MiB/246.8 MiB (25.8 MiB/s) with 1 file(s) remaining  \rCompleted 13.0 MiB/246.8 MiB (26.2 MiB/s) with 1 file(s) remaining  \rCompleted 13.2 MiB/246.8 MiB (26.7 MiB/s) with 1 file(s) remaining  \rCompleted 13.5 MiB/246.8 MiB (27.1 MiB/s) with 1 file(s) remaining  \rCompleted 13.8 MiB/246.8 MiB (27.6 MiB/s) with 1 file(s) remaining  \rCompleted 14.0 MiB/246.8 MiB (28.1 MiB/s) with 1 file(s) remaining  \rCompleted 14.2 MiB/246.8 MiB (28.5 MiB/s) with 1 file(s) remaining  \rCompleted 14.5 MiB/246.8 MiB (28.9 MiB/s) with 1 file(s) remaining  \rCompleted 14.8 MiB/246.8 MiB (29.3 MiB/s) with 1 file(s) remaining  \rCompleted 15.0 MiB/246.8 MiB (29.8 MiB/s) with 1 file(s) remaining  \rCompleted 15.2 MiB/246.8 MiB (30.3 MiB/s) with 1 file(s) remaining  \rCompleted 15.5 MiB/246.8 MiB (30.7 MiB/s) with 1 file(s) remaining  \rCompleted 15.8 MiB/246.8 MiB (31.1 MiB/s) with 1 file(s) remaining  \rCompleted 16.0 MiB/246.8 MiB (31.6 MiB/s) with 1 file(s) remaining  \rCompleted 16.2 MiB/246.8 MiB (32.0 MiB/s) with 1 file(s) remaining  \rCompleted 16.5 MiB/246.8 MiB (32.4 MiB/s) with 1 file(s) remaining  \rCompleted 16.8 MiB/246.8 MiB (32.8 MiB/s) with 1 file(s) remaining  \rCompleted 17.0 MiB/246.8 MiB (33.2 MiB/s) with 1 file(s) remaining  \rCompleted 17.2 MiB/246.8 MiB (33.7 MiB/s) with 1 file(s) remaining  \rCompleted 17.5 MiB/246.8 MiB (34.1 MiB/s) with 1 file(s) remaining  \rCompleted 17.8 MiB/246.8 MiB (34.5 MiB/s) with 1 file(s) remaining  \rCompleted 18.0 MiB/246.8 MiB (34.9 MiB/s) with 1 file(s) remaining  \rCompleted 18.2 MiB/246.8 MiB (35.3 MiB/s) with 1 file(s) remaining  \rCompleted 18.5 MiB/246.8 MiB (35.8 MiB/s) with 1 file(s) remaining  \rCompleted 18.8 MiB/246.8 MiB (36.2 MiB/s) with 1 file(s) remaining  \rCompleted 19.0 MiB/246.8 MiB (36.7 MiB/s) with 1 file(s) remaining  \rCompleted 19.2 MiB/246.8 MiB (37.1 MiB/s) with 1 file(s) remaining  \rCompleted 19.5 MiB/246.8 MiB (37.5 MiB/s) with 1 file(s) remaining  \rCompleted 19.8 MiB/246.8 MiB (37.8 MiB/s) with 1 file(s) remaining  \rCompleted 20.0 MiB/246.8 MiB (38.2 MiB/s) with 1 file(s) remaining  \rCompleted 20.2 MiB/246.8 MiB (38.5 MiB/s) with 1 file(s) remaining  \rCompleted 20.5 MiB/246.8 MiB (39.0 MiB/s) with 1 file(s) remaining  \rCompleted 20.8 MiB/246.8 MiB (39.4 MiB/s) with 1 file(s) remaining  \rCompleted 21.0 MiB/246.8 MiB (39.8 MiB/s) with 1 file(s) remaining  \rCompleted 21.2 MiB/246.8 MiB (40.1 MiB/s) with 1 file(s) remaining  \rCompleted 21.5 MiB/246.8 MiB (40.6 MiB/s) with 1 file(s) remaining  \rCompleted 21.8 MiB/246.8 MiB (40.9 MiB/s) with 1 file(s) remaining  \rCompleted 22.0 MiB/246.8 MiB (41.3 MiB/s) with 1 file(s) remaining  \rCompleted 22.2 MiB/246.8 MiB (41.7 MiB/s) with 1 file(s) remaining  \rCompleted 22.5 MiB/246.8 MiB (42.1 MiB/s) with 1 file(s) remaining  \rCompleted 22.8 MiB/246.8 MiB (42.5 MiB/s) with 1 file(s) remaining  \rCompleted 23.0 MiB/246.8 MiB (42.9 MiB/s) with 1 file(s) remaining  \rCompleted 23.2 MiB/246.8 MiB (43.3 MiB/s) with 1 file(s) remaining  \rCompleted 23.5 MiB/246.8 MiB (43.7 MiB/s) with 1 file(s) remaining  \rCompleted 23.8 MiB/246.8 MiB (44.0 MiB/s) with 1 file(s) remaining  \rCompleted 24.0 MiB/246.8 MiB (44.5 MiB/s) with 1 file(s) remaining  \rCompleted 24.2 MiB/246.8 MiB (44.9 MiB/s) with 1 file(s) remaining  \rCompleted 24.5 MiB/246.8 MiB (45.2 MiB/s) with 1 file(s) remaining  \rCompleted 24.8 MiB/246.8 MiB (45.7 MiB/s) with 1 file(s) remaining  \rCompleted 25.0 MiB/246.8 MiB (46.1 MiB/s) with 1 file(s) remaining  \rCompleted 25.2 MiB/246.8 MiB (46.5 MiB/s) with 1 file(s) remaining  \rCompleted 25.5 MiB/246.8 MiB (46.8 MiB/s) with 1 file(s) remaining  \rCompleted 25.8 MiB/246.8 MiB (47.2 MiB/s) with 1 file(s) remaining  \rCompleted 26.0 MiB/246.8 MiB (47.6 MiB/s) with 1 file(s) remaining  \rCompleted 26.2 MiB/246.8 MiB (48.0 MiB/s) with 1 file(s) remaining  \rCompleted 26.5 MiB/246.8 MiB (48.4 MiB/s) with 1 file(s) remaining  \rCompleted 26.8 MiB/246.8 MiB (48.8 MiB/s) with 1 file(s) remaining  \rCompleted 27.0 MiB/246.8 MiB (49.1 MiB/s) with 1 file(s) remaining  \rCompleted 27.2 MiB/246.8 MiB (49.5 MiB/s) with 1 file(s) remaining  \rCompleted 27.5 MiB/246.8 MiB (49.8 MiB/s) with 1 file(s) remaining  \rCompleted 27.8 MiB/246.8 MiB (50.2 MiB/s) with 1 file(s) remaining  \rCompleted 28.0 MiB/246.8 MiB (50.5 MiB/s) with 1 file(s) remaining  \rCompleted 28.2 MiB/246.8 MiB (50.9 MiB/s) with 1 file(s) remaining  \rCompleted 28.5 MiB/246.8 MiB (51.2 MiB/s) with 1 file(s) remaining  \rCompleted 28.8 MiB/246.8 MiB (51.7 MiB/s) with 1 file(s) remaining  \rCompleted 29.0 MiB/246.8 MiB (52.1 MiB/s) with 1 file(s) remaining  \rCompleted 29.2 MiB/246.8 MiB (52.4 MiB/s) with 1 file(s) remaining  \rCompleted 29.5 MiB/246.8 MiB (52.7 MiB/s) with 1 file(s) remaining  \rCompleted 29.8 MiB/246.8 MiB (53.0 MiB/s) with 1 file(s) remaining  \rCompleted 30.0 MiB/246.8 MiB (53.4 MiB/s) with 1 file(s) remaining  \rCompleted 30.2 MiB/246.8 MiB (53.8 MiB/s) with 1 file(s) remaining  \rCompleted 30.5 MiB/246.8 MiB (54.1 MiB/s) with 1 file(s) remaining  \rCompleted 30.8 MiB/246.8 MiB (54.5 MiB/s) with 1 file(s) remaining  \rCompleted 31.0 MiB/246.8 MiB (54.8 MiB/s) with 1 file(s) remaining  \rCompleted 31.2 MiB/246.8 MiB (55.2 MiB/s) with 1 file(s) remaining  \rCompleted 31.5 MiB/246.8 MiB (55.5 MiB/s) with 1 file(s) remaining  \rCompleted 31.8 MiB/246.8 MiB (55.8 MiB/s) with 1 file(s) remaining  \rCompleted 32.0 MiB/246.8 MiB (56.2 MiB/s) with 1 file(s) remaining  \rCompleted 32.2 MiB/246.8 MiB (56.6 MiB/s) with 1 file(s) remaining  \rCompleted 32.5 MiB/246.8 MiB (56.9 MiB/s) with 1 file(s) remaining  \rCompleted 32.8 MiB/246.8 MiB (57.3 MiB/s) with 1 file(s) remaining  \rCompleted 33.0 MiB/246.8 MiB (57.7 MiB/s) with 1 file(s) remaining  \rCompleted 33.2 MiB/246.8 MiB (58.0 MiB/s) with 1 file(s) remaining  \rCompleted 33.5 MiB/246.8 MiB (58.4 MiB/s) with 1 file(s) remaining  \rCompleted 33.8 MiB/246.8 MiB (58.7 MiB/s) with 1 file(s) remaining  \rCompleted 34.0 MiB/246.8 MiB (59.1 MiB/s) with 1 file(s) remaining  \rCompleted 34.2 MiB/246.8 MiB (59.4 MiB/s) with 1 file(s) remaining  \rCompleted 34.5 MiB/246.8 MiB (59.8 MiB/s) with 1 file(s) remaining  \rCompleted 34.8 MiB/246.8 MiB (60.2 MiB/s) with 1 file(s) remaining  \rCompleted 35.0 MiB/246.8 MiB (60.5 MiB/s) with 1 file(s) remaining  \rCompleted 35.2 MiB/246.8 MiB (60.8 MiB/s) with 1 file(s) remaining  \rCompleted 35.5 MiB/246.8 MiB (61.2 MiB/s) with 1 file(s) remaining  \rCompleted 35.8 MiB/246.8 MiB (61.5 MiB/s) with 1 file(s) remaining  \rCompleted 36.0 MiB/246.8 MiB (61.9 MiB/s) with 1 file(s) remaining  \rCompleted 36.2 MiB/246.8 MiB (62.2 MiB/s) with 1 file(s) remaining  \rCompleted 36.5 MiB/246.8 MiB (62.5 MiB/s) with 1 file(s) remaining  \rCompleted 36.8 MiB/246.8 MiB (62.9 MiB/s) with 1 file(s) remaining  \rCompleted 37.0 MiB/246.8 MiB (63.3 MiB/s) with 1 file(s) remaining  \rCompleted 37.2 MiB/246.8 MiB (63.5 MiB/s) with 1 file(s) remaining  \rCompleted 37.5 MiB/246.8 MiB (63.6 MiB/s) with 1 file(s) remaining  \rCompleted 37.8 MiB/246.8 MiB (64.0 MiB/s) with 1 file(s) remaining  \rCompleted 38.0 MiB/246.8 MiB (64.3 MiB/s) with 1 file(s) remaining  \rCompleted 38.2 MiB/246.8 MiB (64.6 MiB/s) with 1 file(s) remaining  \rCompleted 38.5 MiB/246.8 MiB (65.0 MiB/s) with 1 file(s) remaining  \rCompleted 38.8 MiB/246.8 MiB (65.3 MiB/s) with 1 file(s) remaining  \rCompleted 39.0 MiB/246.8 MiB (65.6 MiB/s) with 1 file(s) remaining  \rCompleted 39.2 MiB/246.8 MiB (65.9 MiB/s) with 1 file(s) remaining  \rCompleted 39.5 MiB/246.8 MiB (66.2 MiB/s) with 1 file(s) remaining  \rCompleted 39.8 MiB/246.8 MiB (66.5 MiB/s) with 1 file(s) remaining  \rCompleted 40.0 MiB/246.8 MiB (66.8 MiB/s) with 1 file(s) remaining  \rCompleted 40.2 MiB/246.8 MiB (67.2 MiB/s) with 1 file(s) remaining  \rCompleted 40.5 MiB/246.8 MiB (67.5 MiB/s) with 1 file(s) remaining  \rCompleted 40.8 MiB/246.8 MiB (67.8 MiB/s) with 1 file(s) remaining  \rCompleted 41.0 MiB/246.8 MiB (68.1 MiB/s) with 1 file(s) remaining  \rCompleted 41.2 MiB/246.8 MiB (68.5 MiB/s) with 1 file(s) remaining  \rCompleted 41.5 MiB/246.8 MiB (68.6 MiB/s) with 1 file(s) remaining  \rCompleted 41.8 MiB/246.8 MiB (68.9 MiB/s) with 1 file(s) remaining  \rCompleted 42.0 MiB/246.8 MiB (69.2 MiB/s) with 1 file(s) remaining  \rCompleted 42.2 MiB/246.8 MiB (69.5 MiB/s) with 1 file(s) remaining  \rCompleted 42.5 MiB/246.8 MiB (69.8 MiB/s) with 1 file(s) remaining  \rCompleted 42.8 MiB/246.8 MiB (70.1 MiB/s) with 1 file(s) remaining  \rCompleted 43.0 MiB/246.8 MiB (70.5 MiB/s) with 1 file(s) remaining  \rCompleted 43.2 MiB/246.8 MiB (70.7 MiB/s) with 1 file(s) remaining  \rCompleted 43.5 MiB/246.8 MiB (71.0 MiB/s) with 1 file(s) remaining  \rCompleted 43.8 MiB/246.8 MiB (71.2 MiB/s) with 1 file(s) remaining  \rCompleted 44.0 MiB/246.8 MiB (71.5 MiB/s) with 1 file(s) remaining  \rCompleted 44.2 MiB/246.8 MiB (71.9 MiB/s) with 1 file(s) remaining  \rCompleted 44.5 MiB/246.8 MiB (72.3 MiB/s) with 1 file(s) remaining  \rCompleted 44.8 MiB/246.8 MiB (72.5 MiB/s) with 1 file(s) remaining  \rCompleted 45.0 MiB/246.8 MiB (72.8 MiB/s) with 1 file(s) remaining  \rCompleted 45.2 MiB/246.8 MiB (73.2 MiB/s) with 1 file(s) remaining  \rCompleted 45.5 MiB/246.8 MiB (73.5 MiB/s) with 1 file(s) remaining  \rCompleted 45.8 MiB/246.8 MiB (73.8 MiB/s) with 1 file(s) remaining  \rCompleted 46.0 MiB/246.8 MiB (74.1 MiB/s) with 1 file(s) remaining  \rCompleted 46.2 MiB/246.8 MiB (74.3 MiB/s) with 1 file(s) remaining  \rCompleted 46.5 MiB/246.8 MiB (74.7 MiB/s) with 1 file(s) remaining  \rCompleted 46.8 MiB/246.8 MiB (75.0 MiB/s) with 1 file(s) remaining  \rCompleted 47.0 MiB/246.8 MiB (75.2 MiB/s) with 1 file(s) remaining  \rCompleted 47.2 MiB/246.8 MiB (75.5 MiB/s) with 1 file(s) remaining  \rCompleted 47.5 MiB/246.8 MiB (75.7 MiB/s) with 1 file(s) remaining  \rCompleted 47.8 MiB/246.8 MiB (76.0 MiB/s) with 1 file(s) remaining  \rCompleted 48.0 MiB/246.8 MiB (76.3 MiB/s) with 1 file(s) remaining  \rCompleted 48.2 MiB/246.8 MiB (76.7 MiB/s) with 1 file(s) remaining  \rCompleted 48.5 MiB/246.8 MiB (76.9 MiB/s) with 1 file(s) remaining  \rCompleted 48.8 MiB/246.8 MiB (77.2 MiB/s) with 1 file(s) remaining  \rCompleted 49.0 MiB/246.8 MiB (77.5 MiB/s) with 1 file(s) remaining  \rCompleted 49.2 MiB/246.8 MiB (77.9 MiB/s) with 1 file(s) remaining  \rCompleted 49.5 MiB/246.8 MiB (78.1 MiB/s) with 1 file(s) remaining  \rCompleted 49.8 MiB/246.8 MiB (78.4 MiB/s) with 1 file(s) remaining  \rCompleted 50.0 MiB/246.8 MiB (78.7 MiB/s) with 1 file(s) remaining  \rCompleted 50.2 MiB/246.8 MiB (78.9 MiB/s) with 1 file(s) remaining  \rCompleted 50.5 MiB/246.8 MiB (79.2 MiB/s) with 1 file(s) remaining  \rCompleted 50.8 MiB/246.8 MiB (79.4 MiB/s) with 1 file(s) remaining  \rCompleted 51.0 MiB/246.8 MiB (79.7 MiB/s) with 1 file(s) remaining  \rCompleted 51.2 MiB/246.8 MiB (79.9 MiB/s) with 1 file(s) remaining  \rCompleted 51.5 MiB/246.8 MiB (80.2 MiB/s) with 1 file(s) remaining  \rCompleted 51.8 MiB/246.8 MiB (80.5 MiB/s) with 1 file(s) remaining  \rCompleted 52.0 MiB/246.8 MiB (80.8 MiB/s) with 1 file(s) remaining  \rCompleted 52.2 MiB/246.8 MiB (81.1 MiB/s) with 1 file(s) remaining  \rCompleted 52.5 MiB/246.8 MiB (81.4 MiB/s) with 1 file(s) remaining  \rCompleted 52.8 MiB/246.8 MiB (81.8 MiB/s) with 1 file(s) remaining  \rCompleted 53.0 MiB/246.8 MiB (82.0 MiB/s) with 1 file(s) remaining  \rCompleted 53.2 MiB/246.8 MiB (82.4 MiB/s) with 1 file(s) remaining  \rCompleted 53.5 MiB/246.8 MiB (82.3 MiB/s) with 1 file(s) remaining  \rCompleted 53.8 MiB/246.8 MiB (82.6 MiB/s) with 1 file(s) remaining  \rCompleted 54.0 MiB/246.8 MiB (82.9 MiB/s) with 1 file(s) remaining  \rCompleted 54.2 MiB/246.8 MiB (83.3 MiB/s) with 1 file(s) remaining  \rCompleted 54.5 MiB/246.8 MiB (83.5 MiB/s) with 1 file(s) remaining  \rCompleted 54.8 MiB/246.8 MiB (83.8 MiB/s) with 1 file(s) remaining  \rCompleted 55.0 MiB/246.8 MiB (84.1 MiB/s) with 1 file(s) remaining  \rCompleted 55.2 MiB/246.8 MiB (84.4 MiB/s) with 1 file(s) remaining  \rCompleted 55.5 MiB/246.8 MiB (84.7 MiB/s) with 1 file(s) remaining  \rCompleted 55.8 MiB/246.8 MiB (85.1 MiB/s) with 1 file(s) remaining  \rCompleted 56.0 MiB/246.8 MiB (85.3 MiB/s) with 1 file(s) remaining  \rCompleted 56.2 MiB/246.8 MiB (85.6 MiB/s) with 1 file(s) remaining  \rCompleted 56.5 MiB/246.8 MiB (85.9 MiB/s) with 1 file(s) remaining  \rCompleted 56.8 MiB/246.8 MiB (86.1 MiB/s) with 1 file(s) remaining  \rCompleted 57.0 MiB/246.8 MiB (86.4 MiB/s) with 1 file(s) remaining  \rCompleted 57.2 MiB/246.8 MiB (86.6 MiB/s) with 1 file(s) remaining  \rCompleted 57.5 MiB/246.8 MiB (86.9 MiB/s) with 1 file(s) remaining  \rCompleted 57.8 MiB/246.8 MiB (87.2 MiB/s) with 1 file(s) remaining  \rCompleted 58.0 MiB/246.8 MiB (87.5 MiB/s) with 1 file(s) remaining  \rCompleted 58.2 MiB/246.8 MiB (87.8 MiB/s) with 1 file(s) remaining  \rCompleted 58.5 MiB/246.8 MiB (87.8 MiB/s) with 1 file(s) remaining  \rCompleted 58.8 MiB/246.8 MiB (88.1 MiB/s) with 1 file(s) remaining  \rCompleted 59.0 MiB/246.8 MiB (88.3 MiB/s) with 1 file(s) remaining  \rCompleted 59.2 MiB/246.8 MiB (88.6 MiB/s) with 1 file(s) remaining  \rCompleted 59.5 MiB/246.8 MiB (88.9 MiB/s) with 1 file(s) remaining  \rCompleted 59.8 MiB/246.8 MiB (89.2 MiB/s) with 1 file(s) remaining  \rCompleted 60.0 MiB/246.8 MiB (89.4 MiB/s) with 1 file(s) remaining  \rCompleted 60.2 MiB/246.8 MiB (89.6 MiB/s) with 1 file(s) remaining  \rCompleted 60.5 MiB/246.8 MiB (89.9 MiB/s) with 1 file(s) remaining  \rCompleted 60.8 MiB/246.8 MiB (90.2 MiB/s) with 1 file(s) remaining  \rCompleted 61.0 MiB/246.8 MiB (90.4 MiB/s) with 1 file(s) remaining  \rCompleted 61.2 MiB/246.8 MiB (90.7 MiB/s) with 1 file(s) remaining  \rCompleted 61.5 MiB/246.8 MiB (91.0 MiB/s) with 1 file(s) remaining  \rCompleted 61.8 MiB/246.8 MiB (91.1 MiB/s) with 1 file(s) remaining  \rCompleted 62.0 MiB/246.8 MiB (91.4 MiB/s) with 1 file(s) remaining  \rCompleted 62.2 MiB/246.8 MiB (91.8 MiB/s) with 1 file(s) remaining  \rCompleted 62.5 MiB/246.8 MiB (92.0 MiB/s) with 1 file(s) remaining  \rCompleted 62.8 MiB/246.8 MiB (92.3 MiB/s) with 1 file(s) remaining  \rCompleted 63.0 MiB/246.8 MiB (92.5 MiB/s) with 1 file(s) remaining  \rCompleted 63.2 MiB/246.8 MiB (92.8 MiB/s) with 1 file(s) remaining  \rCompleted 63.5 MiB/246.8 MiB (93.1 MiB/s) with 1 file(s) remaining  \rCompleted 63.8 MiB/246.8 MiB (93.3 MiB/s) with 1 file(s) remaining  \rCompleted 64.0 MiB/246.8 MiB (93.6 MiB/s) with 1 file(s) remaining  \rCompleted 64.2 MiB/246.8 MiB (93.7 MiB/s) with 1 file(s) remaining  \rCompleted 64.5 MiB/246.8 MiB (94.0 MiB/s) with 1 file(s) remaining  \rCompleted 64.8 MiB/246.8 MiB (94.2 MiB/s) with 1 file(s) remaining  \rCompleted 65.0 MiB/246.8 MiB (94.5 MiB/s) with 1 file(s) remaining  \rCompleted 65.2 MiB/246.8 MiB (94.8 MiB/s) with 1 file(s) remaining  \rCompleted 65.5 MiB/246.8 MiB (95.0 MiB/s) with 1 file(s) remaining  \rCompleted 65.8 MiB/246.8 MiB (95.3 MiB/s) with 1 file(s) remaining  \rCompleted 66.0 MiB/246.8 MiB (95.5 MiB/s) with 1 file(s) remaining  \rCompleted 66.2 MiB/246.8 MiB (95.8 MiB/s) with 1 file(s) remaining  \rCompleted 66.5 MiB/246.8 MiB (96.1 MiB/s) with 1 file(s) remaining  \rCompleted 66.8 MiB/246.8 MiB (96.4 MiB/s) with 1 file(s) remaining  \rCompleted 67.0 MiB/246.8 MiB (96.6 MiB/s) with 1 file(s) remaining  \rCompleted 67.2 MiB/246.8 MiB (96.9 MiB/s) with 1 file(s) remaining  \rCompleted 67.5 MiB/246.8 MiB (97.2 MiB/s) with 1 file(s) remaining  \rCompleted 67.8 MiB/246.8 MiB (97.5 MiB/s) with 1 file(s) remaining  \rCompleted 68.0 MiB/246.8 MiB (97.5 MiB/s) with 1 file(s) remaining  \rCompleted 68.2 MiB/246.8 MiB (97.6 MiB/s) with 1 file(s) remaining  \rCompleted 68.5 MiB/246.8 MiB (97.9 MiB/s) with 1 file(s) remaining  \rCompleted 68.8 MiB/246.8 MiB (98.2 MiB/s) with 1 file(s) remaining  \rCompleted 69.0 MiB/246.8 MiB (98.4 MiB/s) with 1 file(s) remaining  \rCompleted 69.2 MiB/246.8 MiB (98.7 MiB/s) with 1 file(s) remaining  \rCompleted 69.5 MiB/246.8 MiB (99.0 MiB/s) with 1 file(s) remaining  \rCompleted 69.8 MiB/246.8 MiB (99.2 MiB/s) with 1 file(s) remaining  \rCompleted 70.0 MiB/246.8 MiB (99.5 MiB/s) with 1 file(s) remaining  \rCompleted 70.2 MiB/246.8 MiB (99.8 MiB/s) with 1 file(s) remaining  \rCompleted 70.5 MiB/246.8 MiB (99.9 MiB/s) with 1 file(s) remaining  \rCompleted 70.8 MiB/246.8 MiB (100.1 MiB/s) with 1 file(s) remaining \rCompleted 71.0 MiB/246.8 MiB (100.4 MiB/s) with 1 file(s) remaining \rCompleted 71.2 MiB/246.8 MiB (100.7 MiB/s) with 1 file(s) remaining \rCompleted 71.5 MiB/246.8 MiB (100.9 MiB/s) with 1 file(s) remaining \rCompleted 71.8 MiB/246.8 MiB (101.1 MiB/s) with 1 file(s) remaining \rCompleted 72.0 MiB/246.8 MiB (101.3 MiB/s) with 1 file(s) remaining \rCompleted 72.2 MiB/246.8 MiB (101.5 MiB/s) with 1 file(s) remaining \rCompleted 72.5 MiB/246.8 MiB (101.7 MiB/s) with 1 file(s) remaining \rCompleted 72.8 MiB/246.8 MiB (101.6 MiB/s) with 1 file(s) remaining \rCompleted 73.0 MiB/246.8 MiB (101.9 MiB/s) with 1 file(s) remaining \rCompleted 73.2 MiB/246.8 MiB (102.2 MiB/s) with 1 file(s) remaining \rCompleted 73.5 MiB/246.8 MiB (102.3 MiB/s) with 1 file(s) remaining \rCompleted 73.8 MiB/246.8 MiB (102.3 MiB/s) with 1 file(s) remaining \rCompleted 74.0 MiB/246.8 MiB (102.3 MiB/s) with 1 file(s) remaining \rCompleted 74.2 MiB/246.8 MiB (102.6 MiB/s) with 1 file(s) remaining \rCompleted 74.5 MiB/246.8 MiB (102.8 MiB/s) with 1 file(s) remaining \rCompleted 74.8 MiB/246.8 MiB (103.0 MiB/s) with 1 file(s) remaining \rCompleted 75.0 MiB/246.8 MiB (103.1 MiB/s) with 1 file(s) remaining \rCompleted 75.2 MiB/246.8 MiB (103.2 MiB/s) with 1 file(s) remaining \rCompleted 75.5 MiB/246.8 MiB (103.2 MiB/s) with 1 file(s) remaining \rCompleted 75.8 MiB/246.8 MiB (103.3 MiB/s) with 1 file(s) remaining \rCompleted 76.0 MiB/246.8 MiB (103.5 MiB/s) with 1 file(s) remaining \rCompleted 76.2 MiB/246.8 MiB (103.8 MiB/s) with 1 file(s) remaining \rCompleted 76.5 MiB/246.8 MiB (104.1 MiB/s) with 1 file(s) remaining \rCompleted 76.8 MiB/246.8 MiB (104.1 MiB/s) with 1 file(s) remaining \rCompleted 77.0 MiB/246.8 MiB (104.2 MiB/s) with 1 file(s) remaining \rCompleted 77.2 MiB/246.8 MiB (104.3 MiB/s) with 1 file(s) remaining \rCompleted 77.5 MiB/246.8 MiB (104.5 MiB/s) with 1 file(s) remaining \rCompleted 77.8 MiB/246.8 MiB (104.7 MiB/s) with 1 file(s) remaining \rCompleted 78.0 MiB/246.8 MiB (104.7 MiB/s) with 1 file(s) remaining \rCompleted 78.2 MiB/246.8 MiB (104.8 MiB/s) with 1 file(s) remaining \rCompleted 78.5 MiB/246.8 MiB (105.1 MiB/s) with 1 file(s) remaining \rCompleted 78.8 MiB/246.8 MiB (105.2 MiB/s) with 1 file(s) remaining \rCompleted 79.0 MiB/246.8 MiB (105.5 MiB/s) with 1 file(s) remaining \rCompleted 79.2 MiB/246.8 MiB (105.7 MiB/s) with 1 file(s) remaining \rCompleted 79.5 MiB/246.8 MiB (105.9 MiB/s) with 1 file(s) remaining \rCompleted 79.8 MiB/246.8 MiB (105.8 MiB/s) with 1 file(s) remaining \rCompleted 80.0 MiB/246.8 MiB (106.1 MiB/s) with 1 file(s) remaining \rCompleted 80.2 MiB/246.8 MiB (106.2 MiB/s) with 1 file(s) remaining \rCompleted 80.5 MiB/246.8 MiB (106.5 MiB/s) with 1 file(s) remaining \rCompleted 80.8 MiB/246.8 MiB (106.6 MiB/s) with 1 file(s) remaining \rCompleted 81.0 MiB/246.8 MiB (106.8 MiB/s) with 1 file(s) remaining \rCompleted 81.2 MiB/246.8 MiB (107.0 MiB/s) with 1 file(s) remaining \rCompleted 81.5 MiB/246.8 MiB (106.6 MiB/s) with 1 file(s) remaining \rCompleted 81.8 MiB/246.8 MiB (106.8 MiB/s) with 1 file(s) remaining \rCompleted 82.0 MiB/246.8 MiB (103.6 MiB/s) with 1 file(s) remaining \rCompleted 82.2 MiB/246.8 MiB (103.7 MiB/s) with 1 file(s) remaining \rCompleted 82.5 MiB/246.8 MiB (103.8 MiB/s) with 1 file(s) remaining \rCompleted 82.8 MiB/246.8 MiB (103.8 MiB/s) with 1 file(s) remaining \rCompleted 83.0 MiB/246.8 MiB (103.9 MiB/s) with 1 file(s) remaining \rCompleted 83.2 MiB/246.8 MiB (104.1 MiB/s) with 1 file(s) remaining \rCompleted 83.5 MiB/246.8 MiB (104.2 MiB/s) with 1 file(s) remaining \rCompleted 83.8 MiB/246.8 MiB (104.3 MiB/s) with 1 file(s) remaining \rCompleted 84.0 MiB/246.8 MiB (104.4 MiB/s) with 1 file(s) remaining \rCompleted 84.2 MiB/246.8 MiB (104.6 MiB/s) with 1 file(s) remaining \rCompleted 84.5 MiB/246.8 MiB (104.7 MiB/s) with 1 file(s) remaining \rCompleted 84.8 MiB/246.8 MiB (103.2 MiB/s) with 1 file(s) remaining \rCompleted 85.0 MiB/246.8 MiB (103.3 MiB/s) with 1 file(s) remaining \rCompleted 85.2 MiB/246.8 MiB (103.5 MiB/s) with 1 file(s) remaining \rCompleted 85.5 MiB/246.8 MiB (103.7 MiB/s) with 1 file(s) remaining \rCompleted 85.8 MiB/246.8 MiB (103.8 MiB/s) with 1 file(s) remaining \rCompleted 86.0 MiB/246.8 MiB (104.0 MiB/s) with 1 file(s) remaining \rCompleted 86.2 MiB/246.8 MiB (104.0 MiB/s) with 1 file(s) remaining \rCompleted 86.5 MiB/246.8 MiB (104.1 MiB/s) with 1 file(s) remaining \rCompleted 86.8 MiB/246.8 MiB (104.2 MiB/s) with 1 file(s) remaining \rCompleted 87.0 MiB/246.8 MiB (104.4 MiB/s) with 1 file(s) remaining \rCompleted 87.2 MiB/246.8 MiB (104.5 MiB/s) with 1 file(s) remaining \rCompleted 87.5 MiB/246.8 MiB (104.6 MiB/s) with 1 file(s) remaining \rCompleted 87.8 MiB/246.8 MiB (104.7 MiB/s) with 1 file(s) remaining \rCompleted 88.0 MiB/246.8 MiB (104.8 MiB/s) with 1 file(s) remaining \rCompleted 88.2 MiB/246.8 MiB (103.3 MiB/s) with 1 file(s) remaining \rCompleted 88.5 MiB/246.8 MiB (103.4 MiB/s) with 1 file(s) remaining \rCompleted 88.8 MiB/246.8 MiB (103.5 MiB/s) with 1 file(s) remaining \rCompleted 89.0 MiB/246.8 MiB (103.7 MiB/s) with 1 file(s) remaining \rCompleted 89.2 MiB/246.8 MiB (103.9 MiB/s) with 1 file(s) remaining \rCompleted 89.5 MiB/246.8 MiB (103.9 MiB/s) with 1 file(s) remaining \rCompleted 89.8 MiB/246.8 MiB (104.0 MiB/s) with 1 file(s) remaining \rCompleted 90.0 MiB/246.8 MiB (104.2 MiB/s) with 1 file(s) remaining \rCompleted 90.2 MiB/246.8 MiB (104.3 MiB/s) with 1 file(s) remaining \rCompleted 90.5 MiB/246.8 MiB (104.6 MiB/s) with 1 file(s) remaining \rCompleted 90.8 MiB/246.8 MiB (104.7 MiB/s) with 1 file(s) remaining \rCompleted 91.0 MiB/246.8 MiB (104.9 MiB/s) with 1 file(s) remaining \rCompleted 91.2 MiB/246.8 MiB (105.1 MiB/s) with 1 file(s) remaining \rCompleted 91.5 MiB/246.8 MiB (105.2 MiB/s) with 1 file(s) remaining \rCompleted 91.8 MiB/246.8 MiB (104.8 MiB/s) with 1 file(s) remaining \rCompleted 92.0 MiB/246.8 MiB (105.0 MiB/s) with 1 file(s) remaining \rCompleted 92.2 MiB/246.8 MiB (105.2 MiB/s) with 1 file(s) remaining \rCompleted 92.5 MiB/246.8 MiB (105.1 MiB/s) with 1 file(s) remaining \rCompleted 92.8 MiB/246.8 MiB (105.2 MiB/s) with 1 file(s) remaining \rCompleted 93.0 MiB/246.8 MiB (105.4 MiB/s) with 1 file(s) remaining \rCompleted 93.2 MiB/246.8 MiB (105.6 MiB/s) with 1 file(s) remaining \rCompleted 93.5 MiB/246.8 MiB (105.8 MiB/s) with 1 file(s) remaining \rCompleted 93.8 MiB/246.8 MiB (106.0 MiB/s) with 1 file(s) remaining \rCompleted 94.0 MiB/246.8 MiB (106.2 MiB/s) with 1 file(s) remaining \rCompleted 94.2 MiB/246.8 MiB (106.2 MiB/s) with 1 file(s) remaining \rCompleted 94.5 MiB/246.8 MiB (106.4 MiB/s) with 1 file(s) remaining \rCompleted 94.8 MiB/246.8 MiB (106.5 MiB/s) with 1 file(s) remaining \rCompleted 95.0 MiB/246.8 MiB (106.7 MiB/s) with 1 file(s) remaining \rCompleted 95.2 MiB/246.8 MiB (106.9 MiB/s) with 1 file(s) remaining \rCompleted 95.5 MiB/246.8 MiB (107.1 MiB/s) with 1 file(s) remaining \rCompleted 95.8 MiB/246.8 MiB (107.3 MiB/s) with 1 file(s) remaining \rCompleted 96.0 MiB/246.8 MiB (107.4 MiB/s) with 1 file(s) remaining \rCompleted 96.2 MiB/246.8 MiB (107.6 MiB/s) with 1 file(s) remaining \rCompleted 96.5 MiB/246.8 MiB (107.6 MiB/s) with 1 file(s) remaining \rCompleted 96.8 MiB/246.8 MiB (107.8 MiB/s) with 1 file(s) remaining \rCompleted 97.0 MiB/246.8 MiB (107.9 MiB/s) with 1 file(s) remaining \rCompleted 97.2 MiB/246.8 MiB (108.0 MiB/s) with 1 file(s) remaining \rCompleted 97.5 MiB/246.8 MiB (108.2 MiB/s) with 1 file(s) remaining \rCompleted 97.8 MiB/246.8 MiB (108.4 MiB/s) with 1 file(s) remaining \rCompleted 98.0 MiB/246.8 MiB (108.6 MiB/s) with 1 file(s) remaining \rCompleted 98.2 MiB/246.8 MiB (108.8 MiB/s) with 1 file(s) remaining \rCompleted 98.5 MiB/246.8 MiB (109.0 MiB/s) with 1 file(s) remaining \rCompleted 98.8 MiB/246.8 MiB (109.2 MiB/s) with 1 file(s) remaining \rCompleted 99.0 MiB/246.8 MiB (109.4 MiB/s) with 1 file(s) remaining \rCompleted 99.2 MiB/246.8 MiB (109.6 MiB/s) with 1 file(s) remaining \rCompleted 99.5 MiB/246.8 MiB (109.8 MiB/s) with 1 file(s) remaining \rCompleted 99.8 MiB/246.8 MiB (110.0 MiB/s) with 1 file(s) remaining \rCompleted 100.0 MiB/246.8 MiB (109.7 MiB/s) with 1 file(s) remaining\rCompleted 100.2 MiB/246.8 MiB (109.9 MiB/s) with 1 file(s) remaining\rCompleted 100.5 MiB/246.8 MiB (110.0 MiB/s) with 1 file(s) remaining\rCompleted 100.8 MiB/246.8 MiB (110.2 MiB/s) with 1 file(s) remaining\rCompleted 101.0 MiB/246.8 MiB (110.4 MiB/s) with 1 file(s) remaining\rCompleted 101.2 MiB/246.8 MiB (110.4 MiB/s) with 1 file(s) remaining\rCompleted 101.5 MiB/246.8 MiB (110.5 MiB/s) with 1 file(s) remaining\rCompleted 101.8 MiB/246.8 MiB (110.7 MiB/s) with 1 file(s) remaining\rCompleted 102.0 MiB/246.8 MiB (110.9 MiB/s) with 1 file(s) remaining\rCompleted 102.2 MiB/246.8 MiB (111.1 MiB/s) with 1 file(s) remaining\rCompleted 102.5 MiB/246.8 MiB (111.2 MiB/s) with 1 file(s) remaining\rCompleted 102.8 MiB/246.8 MiB (111.3 MiB/s) with 1 file(s) remaining\rCompleted 103.0 MiB/246.8 MiB (111.5 MiB/s) with 1 file(s) remaining\rCompleted 103.2 MiB/246.8 MiB (111.7 MiB/s) with 1 file(s) remaining\rCompleted 103.5 MiB/246.8 MiB (111.8 MiB/s) with 1 file(s) remaining\rCompleted 103.8 MiB/246.8 MiB (112.0 MiB/s) with 1 file(s) remaining\rCompleted 104.0 MiB/246.8 MiB (112.1 MiB/s) with 1 file(s) remaining\rCompleted 104.2 MiB/246.8 MiB (112.3 MiB/s) with 1 file(s) remaining\rCompleted 104.5 MiB/246.8 MiB (112.4 MiB/s) with 1 file(s) remaining\rCompleted 104.8 MiB/246.8 MiB (112.6 MiB/s) with 1 file(s) remaining\rCompleted 105.0 MiB/246.8 MiB (112.8 MiB/s) with 1 file(s) remaining\rCompleted 105.2 MiB/246.8 MiB (113.0 MiB/s) with 1 file(s) remaining\rCompleted 105.5 MiB/246.8 MiB (113.2 MiB/s) with 1 file(s) remaining\rCompleted 105.8 MiB/246.8 MiB (113.3 MiB/s) with 1 file(s) remaining\rCompleted 106.0 MiB/246.8 MiB (113.5 MiB/s) with 1 file(s) remaining\rCompleted 106.2 MiB/246.8 MiB (113.7 MiB/s) with 1 file(s) remaining\rCompleted 106.5 MiB/246.8 MiB (113.9 MiB/s) with 1 file(s) remaining\rCompleted 106.8 MiB/246.8 MiB (114.1 MiB/s) with 1 file(s) remaining\rCompleted 107.0 MiB/246.8 MiB (114.3 MiB/s) with 1 file(s) remaining\rCompleted 107.2 MiB/246.8 MiB (114.5 MiB/s) with 1 file(s) remaining\rCompleted 107.5 MiB/246.8 MiB (114.6 MiB/s) with 1 file(s) remaining\rCompleted 107.8 MiB/246.8 MiB (114.8 MiB/s) with 1 file(s) remaining\rCompleted 108.0 MiB/246.8 MiB (114.9 MiB/s) with 1 file(s) remaining\rCompleted 108.2 MiB/246.8 MiB (115.1 MiB/s) with 1 file(s) remaining\rCompleted 108.5 MiB/246.8 MiB (114.9 MiB/s) with 1 file(s) remaining\rCompleted 108.8 MiB/246.8 MiB (115.0 MiB/s) with 1 file(s) remaining\rCompleted 109.0 MiB/246.8 MiB (115.1 MiB/s) with 1 file(s) remaining\rCompleted 109.2 MiB/246.8 MiB (115.3 MiB/s) with 1 file(s) remaining\rCompleted 109.5 MiB/246.8 MiB (115.5 MiB/s) with 1 file(s) remaining\rCompleted 109.8 MiB/246.8 MiB (115.7 MiB/s) with 1 file(s) remaining\rCompleted 110.0 MiB/246.8 MiB (115.8 MiB/s) with 1 file(s) remaining\rCompleted 110.2 MiB/246.8 MiB (116.0 MiB/s) with 1 file(s) remaining\rCompleted 110.5 MiB/246.8 MiB (116.2 MiB/s) with 1 file(s) remaining\rCompleted 110.8 MiB/246.8 MiB (116.2 MiB/s) with 1 file(s) remaining\rCompleted 111.0 MiB/246.8 MiB (116.3 MiB/s) with 1 file(s) remaining\rCompleted 111.2 MiB/246.8 MiB (116.5 MiB/s) with 1 file(s) remaining\rCompleted 111.5 MiB/246.8 MiB (116.0 MiB/s) with 1 file(s) remaining\rCompleted 111.8 MiB/246.8 MiB (116.2 MiB/s) with 1 file(s) remaining\rCompleted 112.0 MiB/246.8 MiB (116.3 MiB/s) with 1 file(s) remaining\rCompleted 112.2 MiB/246.8 MiB (116.4 MiB/s) with 1 file(s) remaining\rCompleted 112.5 MiB/246.8 MiB (116.5 MiB/s) with 1 file(s) remaining\rCompleted 112.8 MiB/246.8 MiB (116.7 MiB/s) with 1 file(s) remaining\rCompleted 113.0 MiB/246.8 MiB (116.7 MiB/s) with 1 file(s) remaining\rCompleted 113.2 MiB/246.8 MiB (116.7 MiB/s) with 1 file(s) remaining\rCompleted 113.5 MiB/246.8 MiB (116.9 MiB/s) with 1 file(s) remaining\rCompleted 113.8 MiB/246.8 MiB (117.1 MiB/s) with 1 file(s) remaining\rCompleted 114.0 MiB/246.8 MiB (117.2 MiB/s) with 1 file(s) remaining\rCompleted 114.2 MiB/246.8 MiB (117.2 MiB/s) with 1 file(s) remaining\rCompleted 114.5 MiB/246.8 MiB (117.4 MiB/s) with 1 file(s) remaining\rCompleted 114.8 MiB/246.8 MiB (117.3 MiB/s) with 1 file(s) remaining\rCompleted 115.0 MiB/246.8 MiB (117.4 MiB/s) with 1 file(s) remaining\rCompleted 115.2 MiB/246.8 MiB (117.6 MiB/s) with 1 file(s) remaining\rCompleted 115.5 MiB/246.8 MiB (117.7 MiB/s) with 1 file(s) remaining\rCompleted 115.8 MiB/246.8 MiB (117.9 MiB/s) with 1 file(s) remaining\rCompleted 116.0 MiB/246.8 MiB (117.9 MiB/s) with 1 file(s) remaining\rCompleted 116.2 MiB/246.8 MiB (118.1 MiB/s) with 1 file(s) remaining\rCompleted 116.5 MiB/246.8 MiB (118.2 MiB/s) with 1 file(s) remaining\rCompleted 116.8 MiB/246.8 MiB (118.3 MiB/s) with 1 file(s) remaining\rCompleted 117.0 MiB/246.8 MiB (118.5 MiB/s) with 1 file(s) remaining\rCompleted 117.2 MiB/246.8 MiB (118.7 MiB/s) with 1 file(s) remaining\rCompleted 117.5 MiB/246.8 MiB (118.9 MiB/s) with 1 file(s) remaining\rCompleted 117.8 MiB/246.8 MiB (118.9 MiB/s) with 1 file(s) remaining\rCompleted 118.0 MiB/246.8 MiB (119.1 MiB/s) with 1 file(s) remaining\rCompleted 118.2 MiB/246.8 MiB (119.3 MiB/s) with 1 file(s) remaining\rCompleted 118.5 MiB/246.8 MiB (119.5 MiB/s) with 1 file(s) remaining\rCompleted 118.8 MiB/246.8 MiB (119.7 MiB/s) with 1 file(s) remaining\rCompleted 119.0 MiB/246.8 MiB (119.7 MiB/s) with 1 file(s) remaining\rCompleted 119.2 MiB/246.8 MiB (119.9 MiB/s) with 1 file(s) remaining\rCompleted 119.5 MiB/246.8 MiB (120.0 MiB/s) with 1 file(s) remaining\rCompleted 119.8 MiB/246.8 MiB (120.2 MiB/s) with 1 file(s) remaining\rCompleted 120.0 MiB/246.8 MiB (120.4 MiB/s) with 1 file(s) remaining\rCompleted 120.2 MiB/246.8 MiB (120.5 MiB/s) with 1 file(s) remaining\rCompleted 120.5 MiB/246.8 MiB (120.7 MiB/s) with 1 file(s) remaining\rCompleted 120.8 MiB/246.8 MiB (120.8 MiB/s) with 1 file(s) remaining\rCompleted 121.0 MiB/246.8 MiB (121.0 MiB/s) with 1 file(s) remaining\rCompleted 121.2 MiB/246.8 MiB (121.0 MiB/s) with 1 file(s) remaining\rCompleted 121.5 MiB/246.8 MiB (121.1 MiB/s) with 1 file(s) remaining\rCompleted 121.8 MiB/246.8 MiB (121.3 MiB/s) with 1 file(s) remaining\rCompleted 122.0 MiB/246.8 MiB (121.5 MiB/s) with 1 file(s) remaining\rCompleted 122.2 MiB/246.8 MiB (121.6 MiB/s) with 1 file(s) remaining\rCompleted 122.5 MiB/246.8 MiB (121.8 MiB/s) with 1 file(s) remaining\rCompleted 122.8 MiB/246.8 MiB (121.8 MiB/s) with 1 file(s) remaining\rCompleted 123.0 MiB/246.8 MiB (121.9 MiB/s) with 1 file(s) remaining\rCompleted 123.2 MiB/246.8 MiB (122.0 MiB/s) with 1 file(s) remaining\rCompleted 123.5 MiB/246.8 MiB (121.9 MiB/s) with 1 file(s) remaining\rCompleted 123.8 MiB/246.8 MiB (122.0 MiB/s) with 1 file(s) remaining\rCompleted 124.0 MiB/246.8 MiB (122.1 MiB/s) with 1 file(s) remaining\rCompleted 124.2 MiB/246.8 MiB (122.2 MiB/s) with 1 file(s) remaining\rCompleted 124.5 MiB/246.8 MiB (121.8 MiB/s) with 1 file(s) remaining\rCompleted 124.8 MiB/246.8 MiB (122.0 MiB/s) with 1 file(s) remaining\rCompleted 125.0 MiB/246.8 MiB (122.1 MiB/s) with 1 file(s) remaining\rCompleted 125.2 MiB/246.8 MiB (122.3 MiB/s) with 1 file(s) remaining\rCompleted 125.5 MiB/246.8 MiB (122.5 MiB/s) with 1 file(s) remaining\rCompleted 125.8 MiB/246.8 MiB (122.6 MiB/s) with 1 file(s) remaining\rCompleted 126.0 MiB/246.8 MiB (122.7 MiB/s) with 1 file(s) remaining\rCompleted 126.2 MiB/246.8 MiB (122.8 MiB/s) with 1 file(s) remaining\rCompleted 126.5 MiB/246.8 MiB (123.0 MiB/s) with 1 file(s) remaining\rCompleted 126.8 MiB/246.8 MiB (123.1 MiB/s) with 1 file(s) remaining\rCompleted 127.0 MiB/246.8 MiB (123.3 MiB/s) with 1 file(s) remaining\rCompleted 127.2 MiB/246.8 MiB (123.4 MiB/s) with 1 file(s) remaining\rCompleted 127.5 MiB/246.8 MiB (123.5 MiB/s) with 1 file(s) remaining\rCompleted 127.8 MiB/246.8 MiB (123.7 MiB/s) with 1 file(s) remaining\rCompleted 128.0 MiB/246.8 MiB (123.8 MiB/s) with 1 file(s) remaining\rCompleted 128.2 MiB/246.8 MiB (123.8 MiB/s) with 1 file(s) remaining\rCompleted 128.5 MiB/246.8 MiB (124.0 MiB/s) with 1 file(s) remaining\rCompleted 128.8 MiB/246.8 MiB (124.1 MiB/s) with 1 file(s) remaining\rCompleted 129.0 MiB/246.8 MiB (124.3 MiB/s) with 1 file(s) remaining\rCompleted 129.2 MiB/246.8 MiB (124.4 MiB/s) with 1 file(s) remaining\rCompleted 129.5 MiB/246.8 MiB (124.4 MiB/s) with 1 file(s) remaining\rCompleted 129.8 MiB/246.8 MiB (124.3 MiB/s) with 1 file(s) remaining\rCompleted 130.0 MiB/246.8 MiB (124.2 MiB/s) with 1 file(s) remaining\rCompleted 130.2 MiB/246.8 MiB (124.4 MiB/s) with 1 file(s) remaining\rCompleted 130.5 MiB/246.8 MiB (124.5 MiB/s) with 1 file(s) remaining\rCompleted 130.8 MiB/246.8 MiB (124.5 MiB/s) with 1 file(s) remaining\rCompleted 131.0 MiB/246.8 MiB (124.6 MiB/s) with 1 file(s) remaining\rCompleted 131.2 MiB/246.8 MiB (124.7 MiB/s) with 1 file(s) remaining\rCompleted 131.5 MiB/246.8 MiB (124.9 MiB/s) with 1 file(s) remaining\rCompleted 131.8 MiB/246.8 MiB (125.0 MiB/s) with 1 file(s) remaining\rCompleted 132.0 MiB/246.8 MiB (125.1 MiB/s) with 1 file(s) remaining\rCompleted 132.2 MiB/246.8 MiB (125.2 MiB/s) with 1 file(s) remaining\rCompleted 132.5 MiB/246.8 MiB (125.4 MiB/s) with 1 file(s) remaining\rCompleted 132.8 MiB/246.8 MiB (125.5 MiB/s) with 1 file(s) remaining\rCompleted 133.0 MiB/246.8 MiB (125.6 MiB/s) with 1 file(s) remaining\rCompleted 133.2 MiB/246.8 MiB (125.8 MiB/s) with 1 file(s) remaining\rCompleted 133.5 MiB/246.8 MiB (125.9 MiB/s) with 1 file(s) remaining\rCompleted 133.8 MiB/246.8 MiB (126.0 MiB/s) with 1 file(s) remaining\rCompleted 134.0 MiB/246.8 MiB (126.1 MiB/s) with 1 file(s) remaining\rCompleted 134.2 MiB/246.8 MiB (126.3 MiB/s) with 1 file(s) remaining\rCompleted 134.5 MiB/246.8 MiB (126.5 MiB/s) with 1 file(s) remaining\rCompleted 134.8 MiB/246.8 MiB (126.5 MiB/s) with 1 file(s) remaining\rCompleted 135.0 MiB/246.8 MiB (126.6 MiB/s) with 1 file(s) remaining\rCompleted 135.2 MiB/246.8 MiB (126.7 MiB/s) with 1 file(s) remaining\rCompleted 135.5 MiB/246.8 MiB (126.9 MiB/s) with 1 file(s) remaining\rCompleted 135.8 MiB/246.8 MiB (127.0 MiB/s) with 1 file(s) remaining\rCompleted 136.0 MiB/246.8 MiB (127.2 MiB/s) with 1 file(s) remaining\rCompleted 136.2 MiB/246.8 MiB (127.2 MiB/s) with 1 file(s) remaining\rCompleted 136.5 MiB/246.8 MiB (127.3 MiB/s) with 1 file(s) remaining\rCompleted 136.8 MiB/246.8 MiB (127.4 MiB/s) with 1 file(s) remaining\rCompleted 137.0 MiB/246.8 MiB (127.6 MiB/s) with 1 file(s) remaining\rCompleted 137.2 MiB/246.8 MiB (127.6 MiB/s) with 1 file(s) remaining\rCompleted 137.5 MiB/246.8 MiB (127.8 MiB/s) with 1 file(s) remaining\rCompleted 137.8 MiB/246.8 MiB (127.9 MiB/s) with 1 file(s) remaining\rCompleted 138.0 MiB/246.8 MiB (128.1 MiB/s) with 1 file(s) remaining\rCompleted 138.2 MiB/246.8 MiB (128.3 MiB/s) with 1 file(s) remaining\rCompleted 138.5 MiB/246.8 MiB (128.2 MiB/s) with 1 file(s) remaining\rCompleted 138.8 MiB/246.8 MiB (128.4 MiB/s) with 1 file(s) remaining\rCompleted 139.0 MiB/246.8 MiB (128.4 MiB/s) with 1 file(s) remaining\rCompleted 139.2 MiB/246.8 MiB (128.5 MiB/s) with 1 file(s) remaining\rCompleted 139.5 MiB/246.8 MiB (128.7 MiB/s) with 1 file(s) remaining\rCompleted 139.8 MiB/246.8 MiB (128.6 MiB/s) with 1 file(s) remaining\rCompleted 140.0 MiB/246.8 MiB (128.8 MiB/s) with 1 file(s) remaining\rCompleted 140.2 MiB/246.8 MiB (128.8 MiB/s) with 1 file(s) remaining\rCompleted 140.5 MiB/246.8 MiB (128.9 MiB/s) with 1 file(s) remaining\rCompleted 140.8 MiB/246.8 MiB (129.1 MiB/s) with 1 file(s) remaining\rCompleted 141.0 MiB/246.8 MiB (129.2 MiB/s) with 1 file(s) remaining\rCompleted 141.2 MiB/246.8 MiB (129.2 MiB/s) with 1 file(s) remaining\rCompleted 141.5 MiB/246.8 MiB (129.4 MiB/s) with 1 file(s) remaining\rCompleted 141.8 MiB/246.8 MiB (129.4 MiB/s) with 1 file(s) remaining\rCompleted 142.0 MiB/246.8 MiB (129.5 MiB/s) with 1 file(s) remaining\rCompleted 142.2 MiB/246.8 MiB (129.6 MiB/s) with 1 file(s) remaining\rCompleted 142.5 MiB/246.8 MiB (129.7 MiB/s) with 1 file(s) remaining\rCompleted 142.8 MiB/246.8 MiB (129.8 MiB/s) with 1 file(s) remaining\rCompleted 143.0 MiB/246.8 MiB (130.0 MiB/s) with 1 file(s) remaining\rCompleted 143.2 MiB/246.8 MiB (130.1 MiB/s) with 1 file(s) remaining\rCompleted 143.5 MiB/246.8 MiB (130.2 MiB/s) with 1 file(s) remaining\rCompleted 143.8 MiB/246.8 MiB (130.3 MiB/s) with 1 file(s) remaining\rCompleted 144.0 MiB/246.8 MiB (130.5 MiB/s) with 1 file(s) remaining\rCompleted 144.2 MiB/246.8 MiB (130.6 MiB/s) with 1 file(s) remaining\rCompleted 144.5 MiB/246.8 MiB (130.8 MiB/s) with 1 file(s) remaining\rCompleted 144.8 MiB/246.8 MiB (130.9 MiB/s) with 1 file(s) remaining\rCompleted 145.0 MiB/246.8 MiB (131.0 MiB/s) with 1 file(s) remaining\rCompleted 145.2 MiB/246.8 MiB (131.1 MiB/s) with 1 file(s) remaining\rCompleted 145.5 MiB/246.8 MiB (131.2 MiB/s) with 1 file(s) remaining\rCompleted 145.8 MiB/246.8 MiB (131.3 MiB/s) with 1 file(s) remaining\rCompleted 146.0 MiB/246.8 MiB (131.4 MiB/s) with 1 file(s) remaining\rCompleted 146.2 MiB/246.8 MiB (131.6 MiB/s) with 1 file(s) remaining\rCompleted 146.5 MiB/246.8 MiB (131.7 MiB/s) with 1 file(s) remaining\rCompleted 146.8 MiB/246.8 MiB (131.8 MiB/s) with 1 file(s) remaining\rCompleted 147.0 MiB/246.8 MiB (131.8 MiB/s) with 1 file(s) remaining\rCompleted 147.2 MiB/246.8 MiB (131.7 MiB/s) with 1 file(s) remaining\rCompleted 147.5 MiB/246.8 MiB (131.9 MiB/s) with 1 file(s) remaining\rCompleted 147.8 MiB/246.8 MiB (131.9 MiB/s) with 1 file(s) remaining\rCompleted 148.0 MiB/246.8 MiB (132.1 MiB/s) with 1 file(s) remaining\rCompleted 148.2 MiB/246.8 MiB (132.2 MiB/s) with 1 file(s) remaining\rCompleted 148.5 MiB/246.8 MiB (132.4 MiB/s) with 1 file(s) remaining\rCompleted 148.8 MiB/246.8 MiB (132.5 MiB/s) with 1 file(s) remaining\rCompleted 149.0 MiB/246.8 MiB (132.7 MiB/s) with 1 file(s) remaining\rCompleted 149.2 MiB/246.8 MiB (132.6 MiB/s) with 1 file(s) remaining\rCompleted 149.5 MiB/246.8 MiB (132.8 MiB/s) with 1 file(s) remaining\rCompleted 149.8 MiB/246.8 MiB (132.9 MiB/s) with 1 file(s) remaining\rCompleted 150.0 MiB/246.8 MiB (133.0 MiB/s) with 1 file(s) remaining\rCompleted 150.2 MiB/246.8 MiB (132.9 MiB/s) with 1 file(s) remaining\rCompleted 150.5 MiB/246.8 MiB (133.0 MiB/s) with 1 file(s) remaining\rCompleted 150.8 MiB/246.8 MiB (133.0 MiB/s) with 1 file(s) remaining\rCompleted 151.0 MiB/246.8 MiB (133.2 MiB/s) with 1 file(s) remaining\rCompleted 151.2 MiB/246.8 MiB (133.3 MiB/s) with 1 file(s) remaining\rCompleted 151.5 MiB/246.8 MiB (133.4 MiB/s) with 1 file(s) remaining\rCompleted 151.8 MiB/246.8 MiB (133.6 MiB/s) with 1 file(s) remaining\rCompleted 152.0 MiB/246.8 MiB (133.7 MiB/s) with 1 file(s) remaining\rCompleted 152.2 MiB/246.8 MiB (133.8 MiB/s) with 1 file(s) remaining\rCompleted 152.5 MiB/246.8 MiB (133.9 MiB/s) with 1 file(s) remaining\rCompleted 152.8 MiB/246.8 MiB (133.9 MiB/s) with 1 file(s) remaining\rCompleted 153.0 MiB/246.8 MiB (134.0 MiB/s) with 1 file(s) remaining\rCompleted 153.2 MiB/246.8 MiB (134.2 MiB/s) with 1 file(s) remaining\rCompleted 153.5 MiB/246.8 MiB (134.3 MiB/s) with 1 file(s) remaining\rCompleted 153.8 MiB/246.8 MiB (134.4 MiB/s) with 1 file(s) remaining\rCompleted 154.0 MiB/246.8 MiB (134.5 MiB/s) with 1 file(s) remaining\rCompleted 154.2 MiB/246.8 MiB (134.5 MiB/s) with 1 file(s) remaining\rCompleted 154.5 MiB/246.8 MiB (134.7 MiB/s) with 1 file(s) remaining\rCompleted 154.8 MiB/246.8 MiB (134.6 MiB/s) with 1 file(s) remaining\rCompleted 155.0 MiB/246.8 MiB (134.7 MiB/s) with 1 file(s) remaining\rCompleted 155.2 MiB/246.8 MiB (134.8 MiB/s) with 1 file(s) remaining\rCompleted 155.5 MiB/246.8 MiB (134.9 MiB/s) with 1 file(s) remaining\rCompleted 155.8 MiB/246.8 MiB (135.0 MiB/s) with 1 file(s) remaining\rCompleted 156.0 MiB/246.8 MiB (135.1 MiB/s) with 1 file(s) remaining\rCompleted 156.2 MiB/246.8 MiB (135.3 MiB/s) with 1 file(s) remaining\rCompleted 156.5 MiB/246.8 MiB (135.4 MiB/s) with 1 file(s) remaining\rCompleted 156.8 MiB/246.8 MiB (135.5 MiB/s) with 1 file(s) remaining\rCompleted 157.0 MiB/246.8 MiB (135.7 MiB/s) with 1 file(s) remaining\rCompleted 157.2 MiB/246.8 MiB (135.8 MiB/s) with 1 file(s) remaining\rCompleted 157.5 MiB/246.8 MiB (135.8 MiB/s) with 1 file(s) remaining\rCompleted 157.8 MiB/246.8 MiB (135.9 MiB/s) with 1 file(s) remaining\rCompleted 158.0 MiB/246.8 MiB (136.1 MiB/s) with 1 file(s) remaining\rCompleted 158.2 MiB/246.8 MiB (136.2 MiB/s) with 1 file(s) remaining\rCompleted 158.5 MiB/246.8 MiB (136.3 MiB/s) with 1 file(s) remaining\rCompleted 158.8 MiB/246.8 MiB (136.5 MiB/s) with 1 file(s) remaining\rCompleted 159.0 MiB/246.8 MiB (136.6 MiB/s) with 1 file(s) remaining\rCompleted 159.2 MiB/246.8 MiB (136.6 MiB/s) with 1 file(s) remaining\rCompleted 159.5 MiB/246.8 MiB (136.6 MiB/s) with 1 file(s) remaining\rCompleted 159.8 MiB/246.8 MiB (136.7 MiB/s) with 1 file(s) remaining\rCompleted 160.0 MiB/246.8 MiB (136.9 MiB/s) with 1 file(s) remaining\rCompleted 160.2 MiB/246.8 MiB (137.1 MiB/s) with 1 file(s) remaining\rCompleted 160.5 MiB/246.8 MiB (137.2 MiB/s) with 1 file(s) remaining\rCompleted 160.8 MiB/246.8 MiB (137.4 MiB/s) with 1 file(s) remaining\rCompleted 161.0 MiB/246.8 MiB (137.6 MiB/s) with 1 file(s) remaining\rCompleted 161.2 MiB/246.8 MiB (137.7 MiB/s) with 1 file(s) remaining\rCompleted 161.5 MiB/246.8 MiB (137.7 MiB/s) with 1 file(s) remaining\rCompleted 161.8 MiB/246.8 MiB (137.7 MiB/s) with 1 file(s) remaining\rCompleted 162.0 MiB/246.8 MiB (137.8 MiB/s) with 1 file(s) remaining\rCompleted 162.2 MiB/246.8 MiB (138.0 MiB/s) with 1 file(s) remaining\rCompleted 162.5 MiB/246.8 MiB (138.0 MiB/s) with 1 file(s) remaining\rCompleted 162.8 MiB/246.8 MiB (137.9 MiB/s) with 1 file(s) remaining\rCompleted 163.0 MiB/246.8 MiB (137.9 MiB/s) with 1 file(s) remaining\rCompleted 163.2 MiB/246.8 MiB (137.8 MiB/s) with 1 file(s) remaining\rCompleted 163.5 MiB/246.8 MiB (137.9 MiB/s) with 1 file(s) remaining\rCompleted 163.8 MiB/246.8 MiB (138.0 MiB/s) with 1 file(s) remaining\rCompleted 164.0 MiB/246.8 MiB (137.9 MiB/s) with 1 file(s) remaining\rCompleted 164.2 MiB/246.8 MiB (138.0 MiB/s) with 1 file(s) remaining\rCompleted 164.5 MiB/246.8 MiB (138.0 MiB/s) with 1 file(s) remaining\rCompleted 164.8 MiB/246.8 MiB (138.0 MiB/s) with 1 file(s) remaining\rCompleted 165.0 MiB/246.8 MiB (138.1 MiB/s) with 1 file(s) remaining\rCompleted 165.2 MiB/246.8 MiB (138.2 MiB/s) with 1 file(s) remaining\rCompleted 165.5 MiB/246.8 MiB (138.3 MiB/s) with 1 file(s) remaining\rCompleted 165.8 MiB/246.8 MiB (138.4 MiB/s) with 1 file(s) remaining\rCompleted 166.0 MiB/246.8 MiB (138.4 MiB/s) with 1 file(s) remaining\rCompleted 166.2 MiB/246.8 MiB (138.4 MiB/s) with 1 file(s) remaining\rCompleted 166.5 MiB/246.8 MiB (138.3 MiB/s) with 1 file(s) remaining\rCompleted 166.8 MiB/246.8 MiB (138.3 MiB/s) with 1 file(s) remaining\rCompleted 167.0 MiB/246.8 MiB (138.3 MiB/s) with 1 file(s) remaining\rCompleted 167.2 MiB/246.8 MiB (138.4 MiB/s) with 1 file(s) remaining\rCompleted 167.5 MiB/246.8 MiB (138.5 MiB/s) with 1 file(s) remaining\rCompleted 167.8 MiB/246.8 MiB (138.5 MiB/s) with 1 file(s) remaining\rCompleted 168.0 MiB/246.8 MiB (138.6 MiB/s) with 1 file(s) remaining\rCompleted 168.2 MiB/246.8 MiB (138.0 MiB/s) with 1 file(s) remaining\rCompleted 168.5 MiB/246.8 MiB (138.1 MiB/s) with 1 file(s) remaining\rCompleted 168.8 MiB/246.8 MiB (138.2 MiB/s) with 1 file(s) remaining\rCompleted 169.0 MiB/246.8 MiB (138.3 MiB/s) with 1 file(s) remaining\rCompleted 169.2 MiB/246.8 MiB (138.4 MiB/s) with 1 file(s) remaining\rCompleted 169.5 MiB/246.8 MiB (138.4 MiB/s) with 1 file(s) remaining\rCompleted 169.8 MiB/246.8 MiB (138.5 MiB/s) with 1 file(s) remaining\rCompleted 170.0 MiB/246.8 MiB (138.5 MiB/s) with 1 file(s) remaining\rCompleted 170.2 MiB/246.8 MiB (138.6 MiB/s) with 1 file(s) remaining\rCompleted 170.5 MiB/246.8 MiB (138.6 MiB/s) with 1 file(s) remaining\rCompleted 170.8 MiB/246.8 MiB (138.6 MiB/s) with 1 file(s) remaining\rCompleted 171.0 MiB/246.8 MiB (138.3 MiB/s) with 1 file(s) remaining\rCompleted 171.2 MiB/246.8 MiB (138.3 MiB/s) with 1 file(s) remaining\rCompleted 171.5 MiB/246.8 MiB (138.3 MiB/s) with 1 file(s) remaining\rCompleted 171.8 MiB/246.8 MiB (138.4 MiB/s) with 1 file(s) remaining\rCompleted 172.0 MiB/246.8 MiB (138.3 MiB/s) with 1 file(s) remaining\rCompleted 172.2 MiB/246.8 MiB (138.3 MiB/s) with 1 file(s) remaining\rCompleted 172.5 MiB/246.8 MiB (138.3 MiB/s) with 1 file(s) remaining\rCompleted 172.8 MiB/246.8 MiB (138.4 MiB/s) with 1 file(s) remaining\rCompleted 173.0 MiB/246.8 MiB (138.4 MiB/s) with 1 file(s) remaining\rCompleted 173.2 MiB/246.8 MiB (138.5 MiB/s) with 1 file(s) remaining\rCompleted 173.5 MiB/246.8 MiB (138.5 MiB/s) with 1 file(s) remaining\rCompleted 173.8 MiB/246.8 MiB (138.7 MiB/s) with 1 file(s) remaining\rCompleted 174.0 MiB/246.8 MiB (138.6 MiB/s) with 1 file(s) remaining\rCompleted 174.2 MiB/246.8 MiB (138.7 MiB/s) with 1 file(s) remaining\rCompleted 174.5 MiB/246.8 MiB (138.9 MiB/s) with 1 file(s) remaining\rCompleted 174.8 MiB/246.8 MiB (139.0 MiB/s) with 1 file(s) remaining\rCompleted 175.0 MiB/246.8 MiB (139.1 MiB/s) with 1 file(s) remaining\rCompleted 175.2 MiB/246.8 MiB (139.0 MiB/s) with 1 file(s) remaining\rCompleted 175.5 MiB/246.8 MiB (139.1 MiB/s) with 1 file(s) remaining\rCompleted 175.8 MiB/246.8 MiB (139.1 MiB/s) with 1 file(s) remaining\rCompleted 176.0 MiB/246.8 MiB (138.4 MiB/s) with 1 file(s) remaining\rCompleted 176.2 MiB/246.8 MiB (138.5 MiB/s) with 1 file(s) remaining\rCompleted 176.5 MiB/246.8 MiB (138.5 MiB/s) with 1 file(s) remaining\rCompleted 176.8 MiB/246.8 MiB (138.5 MiB/s) with 1 file(s) remaining\rCompleted 177.0 MiB/246.8 MiB (138.4 MiB/s) with 1 file(s) remaining\rCompleted 177.2 MiB/246.8 MiB (138.4 MiB/s) with 1 file(s) remaining\rCompleted 177.5 MiB/246.8 MiB (138.6 MiB/s) with 1 file(s) remaining\rCompleted 177.8 MiB/246.8 MiB (138.6 MiB/s) with 1 file(s) remaining\rCompleted 178.0 MiB/246.8 MiB (138.6 MiB/s) with 1 file(s) remaining\rCompleted 178.2 MiB/246.8 MiB (138.6 MiB/s) with 1 file(s) remaining\rCompleted 178.5 MiB/246.8 MiB (138.7 MiB/s) with 1 file(s) remaining\rCompleted 178.8 MiB/246.8 MiB (138.7 MiB/s) with 1 file(s) remaining\rCompleted 179.0 MiB/246.8 MiB (138.8 MiB/s) with 1 file(s) remaining\rCompleted 179.2 MiB/246.8 MiB (138.9 MiB/s) with 1 file(s) remaining\rCompleted 179.5 MiB/246.8 MiB (138.6 MiB/s) with 1 file(s) remaining\rCompleted 179.8 MiB/246.8 MiB (138.5 MiB/s) with 1 file(s) remaining\rCompleted 180.0 MiB/246.8 MiB (138.4 MiB/s) with 1 file(s) remaining\rCompleted 180.2 MiB/246.8 MiB (138.5 MiB/s) with 1 file(s) remaining\rCompleted 180.5 MiB/246.8 MiB (138.5 MiB/s) with 1 file(s) remaining\rCompleted 180.8 MiB/246.8 MiB (138.6 MiB/s) with 1 file(s) remaining\rCompleted 181.0 MiB/246.8 MiB (138.7 MiB/s) with 1 file(s) remaining\rCompleted 181.2 MiB/246.8 MiB (138.7 MiB/s) with 1 file(s) remaining\rCompleted 181.5 MiB/246.8 MiB (138.8 MiB/s) with 1 file(s) remaining\rCompleted 181.8 MiB/246.8 MiB (138.4 MiB/s) with 1 file(s) remaining\rCompleted 182.0 MiB/246.8 MiB (138.5 MiB/s) with 1 file(s) remaining\rCompleted 182.2 MiB/246.8 MiB (138.5 MiB/s) with 1 file(s) remaining\rCompleted 182.5 MiB/246.8 MiB (138.5 MiB/s) with 1 file(s) remaining\rCompleted 182.8 MiB/246.8 MiB (138.6 MiB/s) with 1 file(s) remaining\rCompleted 183.0 MiB/246.8 MiB (138.6 MiB/s) with 1 file(s) remaining\rCompleted 183.2 MiB/246.8 MiB (138.6 MiB/s) with 1 file(s) remaining\rCompleted 183.5 MiB/246.8 MiB (138.7 MiB/s) with 1 file(s) remaining\rCompleted 183.8 MiB/246.8 MiB (138.7 MiB/s) with 1 file(s) remaining\rCompleted 184.0 MiB/246.8 MiB (138.9 MiB/s) with 1 file(s) remaining\rCompleted 184.2 MiB/246.8 MiB (138.9 MiB/s) with 1 file(s) remaining\rCompleted 184.5 MiB/246.8 MiB (138.9 MiB/s) with 1 file(s) remaining\rCompleted 184.8 MiB/246.8 MiB (139.0 MiB/s) with 1 file(s) remaining\rCompleted 185.0 MiB/246.8 MiB (139.0 MiB/s) with 1 file(s) remaining\rCompleted 185.2 MiB/246.8 MiB (139.0 MiB/s) with 1 file(s) remaining\rCompleted 185.5 MiB/246.8 MiB (139.1 MiB/s) with 1 file(s) remaining\rCompleted 185.8 MiB/246.8 MiB (139.2 MiB/s) with 1 file(s) remaining\rCompleted 186.0 MiB/246.8 MiB (139.2 MiB/s) with 1 file(s) remaining\rCompleted 186.2 MiB/246.8 MiB (139.2 MiB/s) with 1 file(s) remaining\rCompleted 186.5 MiB/246.8 MiB (139.2 MiB/s) with 1 file(s) remaining\rCompleted 186.8 MiB/246.8 MiB (138.2 MiB/s) with 1 file(s) remaining\rCompleted 187.0 MiB/246.8 MiB (138.2 MiB/s) with 1 file(s) remaining\rCompleted 187.2 MiB/246.8 MiB (138.2 MiB/s) with 1 file(s) remaining\rCompleted 187.5 MiB/246.8 MiB (138.2 MiB/s) with 1 file(s) remaining\rCompleted 187.8 MiB/246.8 MiB (138.3 MiB/s) with 1 file(s) remaining\rCompleted 188.0 MiB/246.8 MiB (138.2 MiB/s) with 1 file(s) remaining\rCompleted 188.2 MiB/246.8 MiB (138.2 MiB/s) with 1 file(s) remaining\rCompleted 188.5 MiB/246.8 MiB (138.3 MiB/s) with 1 file(s) remaining\rCompleted 188.8 MiB/246.8 MiB (138.3 MiB/s) with 1 file(s) remaining\rCompleted 189.0 MiB/246.8 MiB (138.4 MiB/s) with 1 file(s) remaining\rCompleted 189.2 MiB/246.8 MiB (138.3 MiB/s) with 1 file(s) remaining\rCompleted 189.5 MiB/246.8 MiB (138.3 MiB/s) with 1 file(s) remaining\rCompleted 189.8 MiB/246.8 MiB (138.4 MiB/s) with 1 file(s) remaining\rCompleted 190.0 MiB/246.8 MiB (138.5 MiB/s) with 1 file(s) remaining\rCompleted 190.2 MiB/246.8 MiB (138.6 MiB/s) with 1 file(s) remaining\rCompleted 190.5 MiB/246.8 MiB (138.7 MiB/s) with 1 file(s) remaining\rCompleted 190.8 MiB/246.8 MiB (138.6 MiB/s) with 1 file(s) remaining\rCompleted 191.0 MiB/246.8 MiB (138.7 MiB/s) with 1 file(s) remaining\rCompleted 191.2 MiB/246.8 MiB (138.7 MiB/s) with 1 file(s) remaining\rCompleted 191.5 MiB/246.8 MiB (138.8 MiB/s) with 1 file(s) remaining\rCompleted 191.8 MiB/246.8 MiB (138.9 MiB/s) with 1 file(s) remaining\rCompleted 192.0 MiB/246.8 MiB (138.9 MiB/s) with 1 file(s) remaining\rCompleted 192.2 MiB/246.8 MiB (139.0 MiB/s) with 1 file(s) remaining\rCompleted 192.5 MiB/246.8 MiB (139.1 MiB/s) with 1 file(s) remaining\rCompleted 192.8 MiB/246.8 MiB (139.1 MiB/s) with 1 file(s) remaining\rCompleted 193.0 MiB/246.8 MiB (139.2 MiB/s) with 1 file(s) remaining\rCompleted 193.2 MiB/246.8 MiB (139.2 MiB/s) with 1 file(s) remaining\rCompleted 193.5 MiB/246.8 MiB (139.2 MiB/s) with 1 file(s) remaining\rCompleted 193.8 MiB/246.8 MiB (139.3 MiB/s) with 1 file(s) remaining\rCompleted 194.0 MiB/246.8 MiB (139.4 MiB/s) with 1 file(s) remaining\rCompleted 194.2 MiB/246.8 MiB (139.5 MiB/s) with 1 file(s) remaining\rCompleted 194.5 MiB/246.8 MiB (139.4 MiB/s) with 1 file(s) remaining\rCompleted 194.8 MiB/246.8 MiB (139.4 MiB/s) with 1 file(s) remaining\rCompleted 195.0 MiB/246.8 MiB (139.5 MiB/s) with 1 file(s) remaining\rCompleted 195.2 MiB/246.8 MiB (139.4 MiB/s) with 1 file(s) remaining\rCompleted 195.5 MiB/246.8 MiB (139.3 MiB/s) with 1 file(s) remaining\rCompleted 195.8 MiB/246.8 MiB (139.4 MiB/s) with 1 file(s) remaining\rCompleted 196.0 MiB/246.8 MiB (139.5 MiB/s) with 1 file(s) remaining\rCompleted 196.2 MiB/246.8 MiB (139.6 MiB/s) with 1 file(s) remaining\rCompleted 196.5 MiB/246.8 MiB (139.7 MiB/s) with 1 file(s) remaining\rCompleted 196.8 MiB/246.8 MiB (139.8 MiB/s) with 1 file(s) remaining\rCompleted 197.0 MiB/246.8 MiB (139.8 MiB/s) with 1 file(s) remaining\rCompleted 197.2 MiB/246.8 MiB (139.8 MiB/s) with 1 file(s) remaining\rCompleted 197.5 MiB/246.8 MiB (139.9 MiB/s) with 1 file(s) remaining\rCompleted 197.8 MiB/246.8 MiB (140.0 MiB/s) with 1 file(s) remaining\rCompleted 198.0 MiB/246.8 MiB (140.1 MiB/s) with 1 file(s) remaining\rCompleted 198.2 MiB/246.8 MiB (140.2 MiB/s) with 1 file(s) remaining\rCompleted 198.5 MiB/246.8 MiB (140.3 MiB/s) with 1 file(s) remaining\rCompleted 198.8 MiB/246.8 MiB (140.4 MiB/s) with 1 file(s) remaining\rCompleted 199.0 MiB/246.8 MiB (140.5 MiB/s) with 1 file(s) remaining\rCompleted 199.2 MiB/246.8 MiB (140.6 MiB/s) with 1 file(s) remaining\rCompleted 199.5 MiB/246.8 MiB (140.7 MiB/s) with 1 file(s) remaining\rCompleted 199.8 MiB/246.8 MiB (140.7 MiB/s) with 1 file(s) remaining\rCompleted 200.0 MiB/246.8 MiB (140.8 MiB/s) with 1 file(s) remaining\rCompleted 200.2 MiB/246.8 MiB (140.9 MiB/s) with 1 file(s) remaining\rCompleted 200.5 MiB/246.8 MiB (141.1 MiB/s) with 1 file(s) remaining\rCompleted 200.8 MiB/246.8 MiB (141.2 MiB/s) with 1 file(s) remaining\rCompleted 201.0 MiB/246.8 MiB (141.2 MiB/s) with 1 file(s) remaining\rCompleted 201.2 MiB/246.8 MiB (141.3 MiB/s) with 1 file(s) remaining\rCompleted 201.5 MiB/246.8 MiB (141.3 MiB/s) with 1 file(s) remaining\rCompleted 201.8 MiB/246.8 MiB (141.2 MiB/s) with 1 file(s) remaining\rCompleted 202.0 MiB/246.8 MiB (141.4 MiB/s) with 1 file(s) remaining\rCompleted 202.2 MiB/246.8 MiB (141.4 MiB/s) with 1 file(s) remaining\rCompleted 202.5 MiB/246.8 MiB (141.5 MiB/s) with 1 file(s) remaining\rCompleted 202.8 MiB/246.8 MiB (141.5 MiB/s) with 1 file(s) remaining\rCompleted 203.0 MiB/246.8 MiB (141.6 MiB/s) with 1 file(s) remaining\rCompleted 203.2 MiB/246.8 MiB (141.7 MiB/s) with 1 file(s) remaining\rCompleted 203.5 MiB/246.8 MiB (141.8 MiB/s) with 1 file(s) remaining\rCompleted 203.8 MiB/246.8 MiB (141.9 MiB/s) with 1 file(s) remaining\rCompleted 204.0 MiB/246.8 MiB (141.9 MiB/s) with 1 file(s) remaining\rCompleted 204.2 MiB/246.8 MiB (142.0 MiB/s) with 1 file(s) remaining\rCompleted 204.5 MiB/246.8 MiB (142.1 MiB/s) with 1 file(s) remaining\rCompleted 204.8 MiB/246.8 MiB (142.1 MiB/s) with 1 file(s) remaining\rCompleted 205.0 MiB/246.8 MiB (142.1 MiB/s) with 1 file(s) remaining\rCompleted 205.2 MiB/246.8 MiB (142.3 MiB/s) with 1 file(s) remaining\rCompleted 205.5 MiB/246.8 MiB (142.4 MiB/s) with 1 file(s) remaining\rCompleted 205.8 MiB/246.8 MiB (142.4 MiB/s) with 1 file(s) remaining\rCompleted 206.0 MiB/246.8 MiB (142.5 MiB/s) with 1 file(s) remaining\rCompleted 206.2 MiB/246.8 MiB (142.6 MiB/s) with 1 file(s) remaining\rCompleted 206.5 MiB/246.8 MiB (142.7 MiB/s) with 1 file(s) remaining\rCompleted 206.8 MiB/246.8 MiB (142.8 MiB/s) with 1 file(s) remaining\rCompleted 207.0 MiB/246.8 MiB (142.9 MiB/s) with 1 file(s) remaining\rCompleted 207.2 MiB/246.8 MiB (143.0 MiB/s) with 1 file(s) remaining\rCompleted 207.5 MiB/246.8 MiB (143.0 MiB/s) with 1 file(s) remaining\rCompleted 207.8 MiB/246.8 MiB (143.0 MiB/s) with 1 file(s) remaining\rCompleted 208.0 MiB/246.8 MiB (143.1 MiB/s) with 1 file(s) remaining\rCompleted 208.2 MiB/246.8 MiB (143.2 MiB/s) with 1 file(s) remaining\rCompleted 208.5 MiB/246.8 MiB (143.3 MiB/s) with 1 file(s) remaining\rCompleted 208.8 MiB/246.8 MiB (143.4 MiB/s) with 1 file(s) remaining\rCompleted 209.0 MiB/246.8 MiB (143.5 MiB/s) with 1 file(s) remaining\rCompleted 209.2 MiB/246.8 MiB (143.5 MiB/s) with 1 file(s) remaining\rCompleted 209.5 MiB/246.8 MiB (143.5 MiB/s) with 1 file(s) remaining\rCompleted 209.8 MiB/246.8 MiB (143.6 MiB/s) with 1 file(s) remaining\rCompleted 210.0 MiB/246.8 MiB (143.7 MiB/s) with 1 file(s) remaining\rCompleted 210.2 MiB/246.8 MiB (143.8 MiB/s) with 1 file(s) remaining\rCompleted 210.5 MiB/246.8 MiB (143.9 MiB/s) with 1 file(s) remaining\rCompleted 210.8 MiB/246.8 MiB (144.0 MiB/s) with 1 file(s) remaining\rCompleted 211.0 MiB/246.8 MiB (144.1 MiB/s) with 1 file(s) remaining\rCompleted 211.2 MiB/246.8 MiB (144.2 MiB/s) with 1 file(s) remaining\rCompleted 211.5 MiB/246.8 MiB (144.2 MiB/s) with 1 file(s) remaining\rCompleted 211.8 MiB/246.8 MiB (144.2 MiB/s) with 1 file(s) remaining\rCompleted 212.0 MiB/246.8 MiB (144.3 MiB/s) with 1 file(s) remaining\rCompleted 212.2 MiB/246.8 MiB (144.5 MiB/s) with 1 file(s) remaining\rCompleted 212.5 MiB/246.8 MiB (144.5 MiB/s) with 1 file(s) remaining\rCompleted 212.8 MiB/246.8 MiB (144.6 MiB/s) with 1 file(s) remaining\rCompleted 213.0 MiB/246.8 MiB (144.7 MiB/s) with 1 file(s) remaining\rCompleted 213.2 MiB/246.8 MiB (144.6 MiB/s) with 1 file(s) remaining\rCompleted 213.5 MiB/246.8 MiB (144.7 MiB/s) with 1 file(s) remaining\rCompleted 213.8 MiB/246.8 MiB (144.8 MiB/s) with 1 file(s) remaining\rCompleted 214.0 MiB/246.8 MiB (144.9 MiB/s) with 1 file(s) remaining\rCompleted 214.2 MiB/246.8 MiB (144.9 MiB/s) with 1 file(s) remaining\rCompleted 214.5 MiB/246.8 MiB (145.0 MiB/s) with 1 file(s) remaining\rCompleted 214.8 MiB/246.8 MiB (145.1 MiB/s) with 1 file(s) remaining\rCompleted 215.0 MiB/246.8 MiB (145.2 MiB/s) with 1 file(s) remaining\rCompleted 215.2 MiB/246.8 MiB (145.3 MiB/s) with 1 file(s) remaining\rCompleted 215.5 MiB/246.8 MiB (145.4 MiB/s) with 1 file(s) remaining\rCompleted 215.8 MiB/246.8 MiB (145.5 MiB/s) with 1 file(s) remaining\rCompleted 216.0 MiB/246.8 MiB (145.6 MiB/s) with 1 file(s) remaining\rCompleted 216.2 MiB/246.8 MiB (145.7 MiB/s) with 1 file(s) remaining\rCompleted 216.5 MiB/246.8 MiB (145.7 MiB/s) with 1 file(s) remaining\rCompleted 216.8 MiB/246.8 MiB (145.8 MiB/s) with 1 file(s) remaining\rCompleted 217.0 MiB/246.8 MiB (145.9 MiB/s) with 1 file(s) remaining\rCompleted 217.2 MiB/246.8 MiB (146.0 MiB/s) with 1 file(s) remaining\rCompleted 217.5 MiB/246.8 MiB (146.0 MiB/s) with 1 file(s) remaining\rCompleted 217.8 MiB/246.8 MiB (146.1 MiB/s) with 1 file(s) remaining\rCompleted 218.0 MiB/246.8 MiB (146.0 MiB/s) with 1 file(s) remaining\rCompleted 218.2 MiB/246.8 MiB (146.0 MiB/s) with 1 file(s) remaining\rCompleted 218.5 MiB/246.8 MiB (146.1 MiB/s) with 1 file(s) remaining\rCompleted 218.8 MiB/246.8 MiB (146.0 MiB/s) with 1 file(s) remaining\rCompleted 219.0 MiB/246.8 MiB (146.0 MiB/s) with 1 file(s) remaining\rCompleted 219.2 MiB/246.8 MiB (146.1 MiB/s) with 1 file(s) remaining\rCompleted 219.5 MiB/246.8 MiB (146.2 MiB/s) with 1 file(s) remaining\rCompleted 219.8 MiB/246.8 MiB (146.3 MiB/s) with 1 file(s) remaining\rCompleted 220.0 MiB/246.8 MiB (146.4 MiB/s) with 1 file(s) remaining\rCompleted 220.2 MiB/246.8 MiB (146.3 MiB/s) with 1 file(s) remaining\rCompleted 220.5 MiB/246.8 MiB (146.4 MiB/s) with 1 file(s) remaining\rCompleted 220.8 MiB/246.8 MiB (146.5 MiB/s) with 1 file(s) remaining\rCompleted 221.0 MiB/246.8 MiB (146.5 MiB/s) with 1 file(s) remaining\rCompleted 221.2 MiB/246.8 MiB (146.6 MiB/s) with 1 file(s) remaining\rCompleted 221.5 MiB/246.8 MiB (146.7 MiB/s) with 1 file(s) remaining\rCompleted 221.8 MiB/246.8 MiB (146.8 MiB/s) with 1 file(s) remaining\rCompleted 222.0 MiB/246.8 MiB (146.8 MiB/s) with 1 file(s) remaining\rCompleted 222.2 MiB/246.8 MiB (146.9 MiB/s) with 1 file(s) remaining\rCompleted 222.5 MiB/246.8 MiB (146.9 MiB/s) with 1 file(s) remaining\rCompleted 222.8 MiB/246.8 MiB (147.0 MiB/s) with 1 file(s) remaining\rCompleted 223.0 MiB/246.8 MiB (147.1 MiB/s) with 1 file(s) remaining\rCompleted 223.2 MiB/246.8 MiB (147.1 MiB/s) with 1 file(s) remaining\rCompleted 223.5 MiB/246.8 MiB (147.2 MiB/s) with 1 file(s) remaining\rCompleted 223.8 MiB/246.8 MiB (147.3 MiB/s) with 1 file(s) remaining\rCompleted 224.0 MiB/246.8 MiB (147.3 MiB/s) with 1 file(s) remaining\rCompleted 224.2 MiB/246.8 MiB (147.3 MiB/s) with 1 file(s) remaining\rCompleted 224.5 MiB/246.8 MiB (147.4 MiB/s) with 1 file(s) remaining\rCompleted 224.8 MiB/246.8 MiB (147.5 MiB/s) with 1 file(s) remaining\rCompleted 225.0 MiB/246.8 MiB (147.5 MiB/s) with 1 file(s) remaining\rCompleted 225.2 MiB/246.8 MiB (147.6 MiB/s) with 1 file(s) remaining\rCompleted 225.5 MiB/246.8 MiB (147.7 MiB/s) with 1 file(s) remaining\rCompleted 225.8 MiB/246.8 MiB (147.8 MiB/s) with 1 file(s) remaining\rCompleted 226.0 MiB/246.8 MiB (147.9 MiB/s) with 1 file(s) remaining\rCompleted 226.2 MiB/246.8 MiB (148.0 MiB/s) with 1 file(s) remaining\rCompleted 226.5 MiB/246.8 MiB (148.0 MiB/s) with 1 file(s) remaining\rCompleted 226.8 MiB/246.8 MiB (148.0 MiB/s) with 1 file(s) remaining\rCompleted 227.0 MiB/246.8 MiB (148.1 MiB/s) with 1 file(s) remaining\rCompleted 227.2 MiB/246.8 MiB (148.2 MiB/s) with 1 file(s) remaining\rCompleted 227.5 MiB/246.8 MiB (148.3 MiB/s) with 1 file(s) remaining\rCompleted 227.8 MiB/246.8 MiB (148.3 MiB/s) with 1 file(s) remaining\rCompleted 228.0 MiB/246.8 MiB (148.4 MiB/s) with 1 file(s) remaining\rCompleted 228.2 MiB/246.8 MiB (148.5 MiB/s) with 1 file(s) remaining\rCompleted 228.5 MiB/246.8 MiB (148.5 MiB/s) with 1 file(s) remaining\rCompleted 228.8 MiB/246.8 MiB (148.4 MiB/s) with 1 file(s) remaining\rCompleted 229.0 MiB/246.8 MiB (148.5 MiB/s) with 1 file(s) remaining\rCompleted 229.2 MiB/246.8 MiB (148.6 MiB/s) with 1 file(s) remaining\rCompleted 229.5 MiB/246.8 MiB (148.7 MiB/s) with 1 file(s) remaining\rCompleted 229.8 MiB/246.8 MiB (148.8 MiB/s) with 1 file(s) remaining\rCompleted 230.0 MiB/246.8 MiB (148.8 MiB/s) with 1 file(s) remaining\rCompleted 230.2 MiB/246.8 MiB (148.8 MiB/s) with 1 file(s) remaining\rCompleted 230.5 MiB/246.8 MiB (148.9 MiB/s) with 1 file(s) remaining\rCompleted 230.8 MiB/246.8 MiB (149.0 MiB/s) with 1 file(s) remaining\rCompleted 231.0 MiB/246.8 MiB (149.1 MiB/s) with 1 file(s) remaining\rCompleted 231.2 MiB/246.8 MiB (149.1 MiB/s) with 1 file(s) remaining\rCompleted 231.5 MiB/246.8 MiB (149.1 MiB/s) with 1 file(s) remaining\rCompleted 231.8 MiB/246.8 MiB (149.2 MiB/s) with 1 file(s) remaining\rCompleted 232.0 MiB/246.8 MiB (149.3 MiB/s) with 1 file(s) remaining\rCompleted 232.2 MiB/246.8 MiB (149.3 MiB/s) with 1 file(s) remaining\rCompleted 232.5 MiB/246.8 MiB (149.3 MiB/s) with 1 file(s) remaining\rCompleted 232.8 MiB/246.8 MiB (149.4 MiB/s) with 1 file(s) remaining\rCompleted 233.0 MiB/246.8 MiB (149.4 MiB/s) with 1 file(s) remaining\rCompleted 233.2 MiB/246.8 MiB (149.5 MiB/s) with 1 file(s) remaining\rCompleted 233.5 MiB/246.8 MiB (149.6 MiB/s) with 1 file(s) remaining\rCompleted 233.8 MiB/246.8 MiB (149.6 MiB/s) with 1 file(s) remaining\rCompleted 234.0 MiB/246.8 MiB (149.8 MiB/s) with 1 file(s) remaining\rCompleted 234.2 MiB/246.8 MiB (149.8 MiB/s) with 1 file(s) remaining\rCompleted 234.5 MiB/246.8 MiB (149.9 MiB/s) with 1 file(s) remaining\rCompleted 234.8 MiB/246.8 MiB (150.0 MiB/s) with 1 file(s) remaining\rCompleted 235.0 MiB/246.8 MiB (150.0 MiB/s) with 1 file(s) remaining\rCompleted 235.2 MiB/246.8 MiB (150.1 MiB/s) with 1 file(s) remaining\rCompleted 235.5 MiB/246.8 MiB (150.2 MiB/s) with 1 file(s) remaining\rCompleted 235.8 MiB/246.8 MiB (150.3 MiB/s) with 1 file(s) remaining\rCompleted 236.0 MiB/246.8 MiB (150.4 MiB/s) with 1 file(s) remaining\rCompleted 236.2 MiB/246.8 MiB (150.4 MiB/s) with 1 file(s) remaining\rCompleted 236.5 MiB/246.8 MiB (150.5 MiB/s) with 1 file(s) remaining\rCompleted 236.8 MiB/246.8 MiB (150.5 MiB/s) with 1 file(s) remaining\rCompleted 237.0 MiB/246.8 MiB (150.5 MiB/s) with 1 file(s) remaining\rCompleted 237.2 MiB/246.8 MiB (150.6 MiB/s) with 1 file(s) remaining\rCompleted 237.5 MiB/246.8 MiB (150.7 MiB/s) with 1 file(s) remaining\rCompleted 237.8 MiB/246.8 MiB (150.7 MiB/s) with 1 file(s) remaining\rCompleted 238.0 MiB/246.8 MiB (150.8 MiB/s) with 1 file(s) remaining\rCompleted 238.2 MiB/246.8 MiB (150.9 MiB/s) with 1 file(s) remaining\rCompleted 238.5 MiB/246.8 MiB (150.9 MiB/s) with 1 file(s) remaining\rCompleted 238.8 MiB/246.8 MiB (151.0 MiB/s) with 1 file(s) remaining\rCompleted 239.0 MiB/246.8 MiB (151.0 MiB/s) with 1 file(s) remaining\rCompleted 239.2 MiB/246.8 MiB (151.1 MiB/s) with 1 file(s) remaining\rCompleted 239.5 MiB/246.8 MiB (151.1 MiB/s) with 1 file(s) remaining\rCompleted 239.8 MiB/246.8 MiB (151.2 MiB/s) with 1 file(s) remaining\rCompleted 240.0 MiB/246.8 MiB (151.2 MiB/s) with 1 file(s) remaining\rCompleted 240.2 MiB/246.8 MiB (151.2 MiB/s) with 1 file(s) remaining\rCompleted 240.5 MiB/246.8 MiB (151.3 MiB/s) with 1 file(s) remaining\rCompleted 240.8 MiB/246.8 MiB (151.3 MiB/s) with 1 file(s) remaining\rCompleted 241.0 MiB/246.8 MiB (151.3 MiB/s) with 1 file(s) remaining\rCompleted 241.2 MiB/246.8 MiB (151.4 MiB/s) with 1 file(s) remaining\rCompleted 241.5 MiB/246.8 MiB (151.5 MiB/s) with 1 file(s) remaining\rCompleted 241.8 MiB/246.8 MiB (151.6 MiB/s) with 1 file(s) remaining\rCompleted 242.0 MiB/246.8 MiB (151.7 MiB/s) with 1 file(s) remaining\rCompleted 242.2 MiB/246.8 MiB (151.8 MiB/s) with 1 file(s) remaining\rCompleted 242.5 MiB/246.8 MiB (151.8 MiB/s) with 1 file(s) remaining\rCompleted 242.8 MiB/246.8 MiB (151.9 MiB/s) with 1 file(s) remaining\rCompleted 243.0 MiB/246.8 MiB (152.0 MiB/s) with 1 file(s) remaining\rCompleted 243.2 MiB/246.8 MiB (152.0 MiB/s) with 1 file(s) remaining\rCompleted 243.5 MiB/246.8 MiB (152.1 MiB/s) with 1 file(s) remaining\rCompleted 243.8 MiB/246.8 MiB (152.2 MiB/s) with 1 file(s) remaining\rCompleted 244.0 MiB/246.8 MiB (152.3 MiB/s) with 1 file(s) remaining\rCompleted 244.2 MiB/246.8 MiB (152.4 MiB/s) with 1 file(s) remaining\rCompleted 244.5 MiB/246.8 MiB (152.4 MiB/s) with 1 file(s) remaining\rCompleted 244.8 MiB/246.8 MiB (152.4 MiB/s) with 1 file(s) remaining\rCompleted 245.0 MiB/246.8 MiB (152.5 MiB/s) with 1 file(s) remaining\rCompleted 245.2 MiB/246.8 MiB (152.6 MiB/s) with 1 file(s) remaining\rCompleted 245.5 MiB/246.8 MiB (152.6 MiB/s) with 1 file(s) remaining\rCompleted 245.8 MiB/246.8 MiB (152.6 MiB/s) with 1 file(s) remaining\rCompleted 246.0 MiB/246.8 MiB (151.2 MiB/s) with 1 file(s) remaining\rCompleted 246.2 MiB/246.8 MiB (151.1 MiB/s) with 1 file(s) remaining\rCompleted 246.5 MiB/246.8 MiB (151.1 MiB/s) with 1 file(s) remaining\rCompleted 246.8 MiB/246.8 MiB (151.2 MiB/s) with 1 file(s) remaining\rCompleted 246.8 MiB/246.8 MiB (151.1 MiB/s) with 1 file(s) remaining\rdownload: s3://acoustic-sandbox/labeled-data/detection/train/OrcasoundLab07052019_PodCastRound2.tar.gz to ./OrcasoundLab07052019_PodCastRound2.tar.gz\n"
          ],
          "name": "stdout"
        }
      ]
    },
    {
      "cell_type": "code",
      "metadata": {
        "id": "d1mkA-wLq13f",
        "colab_type": "code",
        "outputId": "f7545375-b9d0-490b-fe9f-9585a791174b",
        "colab": {
          "base_uri": "https://localhost:8080/",
          "height": 1000
        }
      },
      "source": [
        "%%bash\n",
        "tar -xzvf/content/OrcasoundLab07052019_PodCastRound2.tar.gz\n"
      ],
      "execution_count": 0,
      "outputs": [
        {
          "output_type": "stream",
          "text": [
            "Round2_OS_07_05/\n",
            "Round2_OS_07_05/dev.tsv\n",
            "Round2_OS_07_05/invstd64.txt\n",
            "Round2_OS_07_05/mean64.txt\n",
            "Round2_OS_07_05/README.md\n",
            "Round2_OS_07_05/train.tsv\n",
            "Round2_OS_07_05/wav/\n",
            "Round2_OS_07_05/wav/1562337136_0004.wav\n",
            "Round2_OS_07_05/wav/1562337136_0005.wav\n",
            "Round2_OS_07_05/wav/1562337136_0006.wav\n",
            "Round2_OS_07_05/wav/1562337136_000a.wav\n",
            "Round2_OS_07_05/wav/1562337136_000b.wav\n",
            "Round2_OS_07_05/wav/1562337136_000c.wav\n",
            "Round2_OS_07_05/wav/1562337136_000d.wav\n",
            "Round2_OS_07_05/wav/1562337136_000e.wav\n",
            "Round2_OS_07_05/wav/1562337136_0010.wav\n",
            "Round2_OS_07_05/wav/1562337136_0012.wav\n",
            "Round2_OS_07_05/wav/1562337136_0013.wav\n",
            "Round2_OS_07_05/wav/1562337136_0017.wav\n",
            "Round2_OS_07_05/wav/1562337136_0018.wav\n",
            "Round2_OS_07_05/wav/1562337136_0019.wav\n",
            "Round2_OS_07_05/wav/1562337136_001a.wav\n",
            "Round2_OS_07_05/wav/1562337136_001b.wav\n",
            "Round2_OS_07_05/wav/1562337136_001c.wav\n",
            "Round2_OS_07_05/wav/1562340736_0001.wav\n",
            "Round2_OS_07_05/wav/1562340736_0004.wav\n",
            "Round2_OS_07_05/wav/1562340736_0005.wav\n",
            "Round2_OS_07_05/wav/1562340736_0006.wav\n",
            "Round2_OS_07_05/wav/1562340736_0007.wav\n",
            "Round2_OS_07_05/wav/1562340736_0008.wav\n",
            "Round2_OS_07_05/wav/1562340736_0009.wav\n",
            "Round2_OS_07_05/wav/1562340736_000a.wav\n",
            "Round2_OS_07_05/wav/1562340736_000b.wav\n",
            "Round2_OS_07_05/wav/1562340736_000c.wav\n",
            "Round2_OS_07_05/wav/1562340736_000d.wav\n",
            "Round2_OS_07_05/wav/1562340736_000e.wav\n",
            "Round2_OS_07_05/wav/1562340736_000f.wav\n",
            "Round2_OS_07_05/wav/1562340736_0010.wav\n",
            "Round2_OS_07_05/wav/1562340736_0011.wav\n",
            "Round2_OS_07_05/wav/1562340736_0012.wav\n",
            "Round2_OS_07_05/wav/1562340736_0013.wav\n",
            "Round2_OS_07_05/wav/1562340736_0014.wav\n",
            "Round2_OS_07_05/wav/1562340736_0015.wav\n",
            "Round2_OS_07_05/wav/1562340736_0016.wav\n",
            "Round2_OS_07_05/wav/1562340736_0017.wav\n",
            "Round2_OS_07_05/wav/1562340736_0018.wav\n",
            "Round2_OS_07_05/wav/1562340736_0019.wav\n",
            "Round2_OS_07_05/wav/1562340736_001b.wav\n",
            "Round2_OS_07_05/wav/1562340736_001c.wav\n",
            "Round2_OS_07_05/wav/1562344334_0001.wav\n",
            "Round2_OS_07_05/wav/1562344334_0002.wav\n",
            "Round2_OS_07_05/wav/1562344334_0003.wav\n",
            "Round2_OS_07_05/wav/1562344334_0004.wav\n",
            "Round2_OS_07_05/wav/1562344334_0005.wav\n",
            "Round2_OS_07_05/wav/1562344334_0006.wav\n",
            "Round2_OS_07_05/wav/1562344334_0007.wav\n",
            "Round2_OS_07_05/wav/1562344334_0008.wav\n",
            "Round2_OS_07_05/wav/1562344334_000a.wav\n",
            "Round2_OS_07_05/wav/1562344334_000b.wav\n",
            "Round2_OS_07_05/wav/1562344334_000c.wav\n",
            "Round2_OS_07_05/wav/1562344334_000d.wav\n",
            "Round2_OS_07_05/wav/1562344334_000e.wav\n",
            "Round2_OS_07_05/wav/1562344334_000f.wav\n",
            "Round2_OS_07_05/wav/1562344334_001c.wav\n"
          ],
          "name": "stdout"
        }
      ]
    },
    {
      "cell_type": "code",
      "metadata": {
        "id": "tnbJ1etxsMWA",
        "colab_type": "code",
        "outputId": "c1844396-d1aa-48da-cec7-c7223771a5e9",
        "colab": {
          "base_uri": "https://localhost:8080/",
          "height": 1000
        }
      },
      "source": [
        "pip install ketos==2.0.0b4\n"
      ],
      "execution_count": 0,
      "outputs": [
        {
          "output_type": "stream",
          "text": [
            "Requirement already satisfied: ketos==2.0.0b4 in /usr/local/lib/python3.6/dist-packages (2.0.0b4)\n",
            "Requirement already satisfied: librosa in /usr/local/lib/python3.6/dist-packages (from ketos==2.0.0b4) (0.6.3)\n",
            "Requirement already satisfied: tensorflow-addons==0.8.3 in /usr/local/lib/python3.6/dist-packages (from ketos==2.0.0b4) (0.8.3)\n",
            "Requirement already satisfied: scikit-learn in /usr/local/lib/python3.6/dist-packages (from ketos==2.0.0b4) (0.22.2.post1)\n",
            "Requirement already satisfied: scikit-image in /usr/local/lib/python3.6/dist-packages (from ketos==2.0.0b4) (0.16.2)\n",
            "Requirement already satisfied: tables in /usr/local/lib/python3.6/dist-packages (from ketos==2.0.0b4) (3.4.4)\n",
            "Requirement already satisfied: scipy in /usr/local/lib/python3.6/dist-packages (from ketos==2.0.0b4) (1.4.1)\n",
            "Requirement already satisfied: psutil in /usr/local/lib/python3.6/dist-packages (from ketos==2.0.0b4) (5.4.8)\n",
            "Requirement already satisfied: datetime-glob in /usr/local/lib/python3.6/dist-packages (from ketos==2.0.0b4) (1.0.7)\n",
            "Requirement already satisfied: setuptools>=41.0.0 in /usr/local/lib/python3.6/dist-packages (from ketos==2.0.0b4) (46.1.3)\n",
            "Requirement already satisfied: pint in /usr/local/lib/python3.6/dist-packages (from ketos==2.0.0b4) (0.11)\n",
            "Requirement already satisfied: tqdm in /usr/local/lib/python3.6/dist-packages (from ketos==2.0.0b4) (4.41.1)\n",
            "Requirement already satisfied: tensorflow==2.1 in /usr/local/lib/python3.6/dist-packages (from ketos==2.0.0b4) (2.1.0)\n",
            "Requirement already satisfied: pandas in /usr/local/lib/python3.6/dist-packages (from ketos==2.0.0b4) (1.0.3)\n",
            "Requirement already satisfied: numpy in /usr/local/lib/python3.6/dist-packages (from ketos==2.0.0b4) (1.18.4)\n",
            "Requirement already satisfied: matplotlib in /usr/local/lib/python3.6/dist-packages (from ketos==2.0.0b4) (3.2.1)\n",
            "Requirement already satisfied: numba==0.48.0 in /usr/local/lib/python3.6/dist-packages (from ketos==2.0.0b4) (0.48.0)\n",
            "Requirement already satisfied: resampy>=0.2.0 in /usr/local/lib/python3.6/dist-packages (from librosa->ketos==2.0.0b4) (0.2.2)\n",
            "Requirement already satisfied: six>=1.3 in /usr/local/lib/python3.6/dist-packages (from librosa->ketos==2.0.0b4) (1.12.0)\n",
            "Requirement already satisfied: decorator>=3.0.0 in /usr/local/lib/python3.6/dist-packages (from librosa->ketos==2.0.0b4) (4.4.2)\n",
            "Requirement already satisfied: audioread>=2.0.0 in /usr/local/lib/python3.6/dist-packages (from librosa->ketos==2.0.0b4) (2.1.8)\n",
            "Requirement already satisfied: joblib>=0.12 in /usr/local/lib/python3.6/dist-packages (from librosa->ketos==2.0.0b4) (0.14.1)\n",
            "Requirement already satisfied: typeguard in /usr/local/lib/python3.6/dist-packages (from tensorflow-addons==0.8.3->ketos==2.0.0b4) (2.7.1)\n",
            "Requirement already satisfied: pillow>=4.3.0 in /usr/local/lib/python3.6/dist-packages (from scikit-image->ketos==2.0.0b4) (7.0.0)\n",
            "Requirement already satisfied: networkx>=2.0 in /usr/local/lib/python3.6/dist-packages (from scikit-image->ketos==2.0.0b4) (2.4)\n",
            "Requirement already satisfied: PyWavelets>=0.4.0 in /usr/local/lib/python3.6/dist-packages (from scikit-image->ketos==2.0.0b4) (1.1.1)\n",
            "Requirement already satisfied: imageio>=2.3.0 in /usr/local/lib/python3.6/dist-packages (from scikit-image->ketos==2.0.0b4) (2.4.1)\n",
            "Requirement already satisfied: numexpr>=2.5.2 in /usr/local/lib/python3.6/dist-packages (from tables->ketos==2.0.0b4) (2.7.1)\n",
            "Requirement already satisfied: lexery>=1.0.0 in /usr/local/lib/python3.6/dist-packages (from datetime-glob->ketos==2.0.0b4) (1.1.0)\n",
            "Requirement already satisfied: opt-einsum>=2.3.2 in /usr/local/lib/python3.6/dist-packages (from tensorflow==2.1->ketos==2.0.0b4) (3.2.1)\n",
            "Requirement already satisfied: keras-preprocessing>=1.1.0 in /usr/local/lib/python3.6/dist-packages (from tensorflow==2.1->ketos==2.0.0b4) (1.1.0)\n",
            "Requirement already satisfied: gast==0.2.2 in /usr/local/lib/python3.6/dist-packages (from tensorflow==2.1->ketos==2.0.0b4) (0.2.2)\n",
            "Requirement already satisfied: absl-py>=0.7.0 in /usr/local/lib/python3.6/dist-packages (from tensorflow==2.1->ketos==2.0.0b4) (0.9.0)\n",
            "Requirement already satisfied: astor>=0.6.0 in /usr/local/lib/python3.6/dist-packages (from tensorflow==2.1->ketos==2.0.0b4) (0.8.1)\n",
            "Requirement already satisfied: grpcio>=1.8.6 in /usr/local/lib/python3.6/dist-packages (from tensorflow==2.1->ketos==2.0.0b4) (1.28.1)\n",
            "Requirement already satisfied: wrapt>=1.11.1 in /usr/local/lib/python3.6/dist-packages (from tensorflow==2.1->ketos==2.0.0b4) (1.12.1)\n",
            "Requirement already satisfied: keras-applications>=1.0.8 in /usr/local/lib/python3.6/dist-packages (from tensorflow==2.1->ketos==2.0.0b4) (1.0.8)\n",
            "Requirement already satisfied: protobuf>=3.8.0 in /usr/local/lib/python3.6/dist-packages (from tensorflow==2.1->ketos==2.0.0b4) (3.10.0)\n",
            "Requirement already satisfied: wheel>=0.26; python_version >= \"3\" in /usr/local/lib/python3.6/dist-packages (from tensorflow==2.1->ketos==2.0.0b4) (0.34.2)\n",
            "Requirement already satisfied: google-pasta>=0.1.6 in /usr/local/lib/python3.6/dist-packages (from tensorflow==2.1->ketos==2.0.0b4) (0.2.0)\n",
            "Requirement already satisfied: termcolor>=1.1.0 in /usr/local/lib/python3.6/dist-packages (from tensorflow==2.1->ketos==2.0.0b4) (1.1.0)\n",
            "Requirement already satisfied: tensorflow-estimator<2.2.0,>=2.1.0rc0 in /usr/local/lib/python3.6/dist-packages (from tensorflow==2.1->ketos==2.0.0b4) (2.1.0)\n",
            "Requirement already satisfied: tensorboard<2.2.0,>=2.1.0 in /usr/local/lib/python3.6/dist-packages (from tensorflow==2.1->ketos==2.0.0b4) (2.1.1)\n",
            "Requirement already satisfied: python-dateutil>=2.6.1 in /usr/local/lib/python3.6/dist-packages (from pandas->ketos==2.0.0b4) (2.8.1)\n",
            "Requirement already satisfied: pytz>=2017.2 in /usr/local/lib/python3.6/dist-packages (from pandas->ketos==2.0.0b4) (2018.9)\n",
            "Requirement already satisfied: cycler>=0.10 in /usr/local/lib/python3.6/dist-packages (from matplotlib->ketos==2.0.0b4) (0.10.0)\n",
            "Requirement already satisfied: kiwisolver>=1.0.1 in /usr/local/lib/python3.6/dist-packages (from matplotlib->ketos==2.0.0b4) (1.2.0)\n",
            "Requirement already satisfied: pyparsing!=2.0.4,!=2.1.2,!=2.1.6,>=2.0.1 in /usr/local/lib/python3.6/dist-packages (from matplotlib->ketos==2.0.0b4) (2.4.7)\n",
            "Requirement already satisfied: llvmlite<0.32.0,>=0.31.0dev0 in /usr/local/lib/python3.6/dist-packages (from numba==0.48.0->ketos==2.0.0b4) (0.31.0)\n",
            "Requirement already satisfied: h5py in /usr/local/lib/python3.6/dist-packages (from keras-applications>=1.0.8->tensorflow==2.1->ketos==2.0.0b4) (2.10.0)\n",
            "Requirement already satisfied: requests<3,>=2.21.0 in /usr/local/lib/python3.6/dist-packages (from tensorboard<2.2.0,>=2.1.0->tensorflow==2.1->ketos==2.0.0b4) (2.23.0)\n",
            "Requirement already satisfied: google-auth<2,>=1.6.3 in /usr/local/lib/python3.6/dist-packages (from tensorboard<2.2.0,>=2.1.0->tensorflow==2.1->ketos==2.0.0b4) (1.7.2)\n",
            "Requirement already satisfied: werkzeug>=0.11.15 in /usr/local/lib/python3.6/dist-packages (from tensorboard<2.2.0,>=2.1.0->tensorflow==2.1->ketos==2.0.0b4) (1.0.1)\n",
            "Requirement already satisfied: markdown>=2.6.8 in /usr/local/lib/python3.6/dist-packages (from tensorboard<2.2.0,>=2.1.0->tensorflow==2.1->ketos==2.0.0b4) (3.2.1)\n",
            "Requirement already satisfied: google-auth-oauthlib<0.5,>=0.4.1 in /usr/local/lib/python3.6/dist-packages (from tensorboard<2.2.0,>=2.1.0->tensorflow==2.1->ketos==2.0.0b4) (0.4.1)\n",
            "Requirement already satisfied: certifi>=2017.4.17 in /usr/local/lib/python3.6/dist-packages (from requests<3,>=2.21.0->tensorboard<2.2.0,>=2.1.0->tensorflow==2.1->ketos==2.0.0b4) (2020.4.5.1)\n",
            "Requirement already satisfied: chardet<4,>=3.0.2 in /usr/local/lib/python3.6/dist-packages (from requests<3,>=2.21.0->tensorboard<2.2.0,>=2.1.0->tensorflow==2.1->ketos==2.0.0b4) (3.0.4)\n",
            "Requirement already satisfied: urllib3!=1.25.0,!=1.25.1,<1.26,>=1.21.1 in /usr/local/lib/python3.6/dist-packages (from requests<3,>=2.21.0->tensorboard<2.2.0,>=2.1.0->tensorflow==2.1->ketos==2.0.0b4) (1.24.3)\n",
            "Requirement already satisfied: idna<3,>=2.5 in /usr/local/lib/python3.6/dist-packages (from requests<3,>=2.21.0->tensorboard<2.2.0,>=2.1.0->tensorflow==2.1->ketos==2.0.0b4) (2.9)\n",
            "Requirement already satisfied: cachetools<3.2,>=2.0.0 in /usr/local/lib/python3.6/dist-packages (from google-auth<2,>=1.6.3->tensorboard<2.2.0,>=2.1.0->tensorflow==2.1->ketos==2.0.0b4) (3.1.1)\n",
            "Requirement already satisfied: pyasn1-modules>=0.2.1 in /usr/local/lib/python3.6/dist-packages (from google-auth<2,>=1.6.3->tensorboard<2.2.0,>=2.1.0->tensorflow==2.1->ketos==2.0.0b4) (0.2.8)\n",
            "Requirement already satisfied: rsa<4.1,>=3.1.4 in /usr/local/lib/python3.6/dist-packages (from google-auth<2,>=1.6.3->tensorboard<2.2.0,>=2.1.0->tensorflow==2.1->ketos==2.0.0b4) (4.0)\n",
            "Requirement already satisfied: requests-oauthlib>=0.7.0 in /usr/local/lib/python3.6/dist-packages (from google-auth-oauthlib<0.5,>=0.4.1->tensorboard<2.2.0,>=2.1.0->tensorflow==2.1->ketos==2.0.0b4) (1.3.0)\n",
            "Requirement already satisfied: pyasn1<0.5.0,>=0.4.6 in /usr/local/lib/python3.6/dist-packages (from pyasn1-modules>=0.2.1->google-auth<2,>=1.6.3->tensorboard<2.2.0,>=2.1.0->tensorflow==2.1->ketos==2.0.0b4) (0.4.8)\n",
            "Requirement already satisfied: oauthlib>=3.0.0 in /usr/local/lib/python3.6/dist-packages (from requests-oauthlib>=0.7.0->google-auth-oauthlib<0.5,>=0.4.1->tensorboard<2.2.0,>=2.1.0->tensorflow==2.1->ketos==2.0.0b4) (3.1.0)\n"
          ],
          "name": "stdout"
        }
      ]
    },
    {
      "cell_type": "code",
      "metadata": {
        "id": "McaUNnIe3UII",
        "colab_type": "code",
        "outputId": "1af189b6-e994-4696-de0b-5c94704499fe",
        "colab": {
          "base_uri": "https://localhost:8080/",
          "height": 70
        }
      },
      "source": [
        "!pip install pysoundfile"
      ],
      "execution_count": 0,
      "outputs": [
        {
          "output_type": "stream",
          "text": [
            "Requirement already satisfied: pysoundfile in /usr/local/lib/python3.6/dist-packages (0.9.0.post1)\n",
            "Requirement already satisfied: cffi>=0.6 in /usr/local/lib/python3.6/dist-packages (from pysoundfile) (1.14.0)\n",
            "Requirement already satisfied: pycparser in /usr/local/lib/python3.6/dist-packages (from cffi>=0.6->pysoundfile) (2.20)\n"
          ],
          "name": "stdout"
        }
      ]
    },
    {
      "cell_type": "code",
      "metadata": {
        "id": "jcQ_Qm0OtHgR",
        "colab_type": "code",
        "colab": {}
      },
      "source": [
        ""
      ],
      "execution_count": 0,
      "outputs": []
    },
    {
      "cell_type": "code",
      "metadata": {
        "id": "hGBES60Htf6L",
        "colab_type": "code",
        "colab": {}
      },
      "source": [
        "import pandas as pd\n",
        "from ketos.data_handling import selection_table as sl\n",
        "import ketos.data_handling.database_interface as dbi\n",
        "from ketos.data_handling.parsing import load_audio_representation\n",
        "from ketos.audio.spectrogram import MagSpectrogram\n",
        "from ketos.data_handling.parsing import load_audio_representation"
      ],
      "execution_count": 0,
      "outputs": []
    },
    {
      "cell_type": "code",
      "metadata": {
        "id": "_epWZ8d72VzS",
        "colab_type": "code",
        "colab": {}
      },
      "source": [
        "annot_train = pd.read_csv('/content/Round2_OS_07_05/podcast2.tsv', sep='\\t')\n"
      ],
      "execution_count": 0,
      "outputs": []
    },
    {
      "cell_type": "code",
      "metadata": {
        "id": "1iTMfBav7xEF",
        "colab_type": "code",
        "outputId": "061a5a58-cbad-4e32-daf5-9f99a6cdd821",
        "colab": {
          "base_uri": "https://localhost:8080/",
          "height": 406
        }
      },
      "source": [
        "annot_train"
      ],
      "execution_count": 0,
      "outputs": [
        {
          "output_type": "execute_result",
          "data": {
            "text/html": [
              "<div>\n",
              "<style scoped>\n",
              "    .dataframe tbody tr th:only-of-type {\n",
              "        vertical-align: middle;\n",
              "    }\n",
              "\n",
              "    .dataframe tbody tr th {\n",
              "        vertical-align: top;\n",
              "    }\n",
              "\n",
              "    .dataframe thead th {\n",
              "        text-align: right;\n",
              "    }\n",
              "</style>\n",
              "<table border=\"1\" class=\"dataframe\">\n",
              "  <thead>\n",
              "    <tr style=\"text-align: right;\">\n",
              "      <th></th>\n",
              "      <th>wav_filename</th>\n",
              "      <th>start_time_s</th>\n",
              "      <th>duration_s</th>\n",
              "      <th>location</th>\n",
              "      <th>date</th>\n",
              "      <th>data_source</th>\n",
              "      <th>data_source_id</th>\n",
              "      <th>label</th>\n",
              "    </tr>\n",
              "  </thead>\n",
              "  <tbody>\n",
              "    <tr>\n",
              "      <th>0</th>\n",
              "      <td>1562337136_0004.wav</td>\n",
              "      <td>49.765625</td>\n",
              "      <td>2.450000</td>\n",
              "      <td>orcasound_lab</td>\n",
              "      <td>2019-07-05</td>\n",
              "      <td>Orcasound_PodCast_Round2</td>\n",
              "      <td>1562337136</td>\n",
              "      <td>SRKWs</td>\n",
              "    </tr>\n",
              "    <tr>\n",
              "      <th>1</th>\n",
              "      <td>1562337136_0004.wav</td>\n",
              "      <td>41.046007</td>\n",
              "      <td>1.658854</td>\n",
              "      <td>orcasound_lab</td>\n",
              "      <td>2019-07-05</td>\n",
              "      <td>Orcasound_PodCast_Round2</td>\n",
              "      <td>1562337136</td>\n",
              "      <td>SRKWs</td>\n",
              "    </tr>\n",
              "    <tr>\n",
              "      <th>2</th>\n",
              "      <td>1562337136_0004.wav</td>\n",
              "      <td>37.345486</td>\n",
              "      <td>1.743924</td>\n",
              "      <td>orcasound_lab</td>\n",
              "      <td>2019-07-05</td>\n",
              "      <td>Orcasound_PodCast_Round2</td>\n",
              "      <td>1562337136</td>\n",
              "      <td>SRKWs</td>\n",
              "    </tr>\n",
              "    <tr>\n",
              "      <th>3</th>\n",
              "      <td>1562337136_0004.wav</td>\n",
              "      <td>42.917535</td>\n",
              "      <td>2.594618</td>\n",
              "      <td>orcasound_lab</td>\n",
              "      <td>2019-07-05</td>\n",
              "      <td>Orcasound_PodCast_Round2</td>\n",
              "      <td>1562337136</td>\n",
              "      <td>SRKWs</td>\n",
              "    </tr>\n",
              "    <tr>\n",
              "      <th>4</th>\n",
              "      <td>1562337136_0004.wav</td>\n",
              "      <td>45.980035</td>\n",
              "      <td>2.041667</td>\n",
              "      <td>orcasound_lab</td>\n",
              "      <td>2019-07-05</td>\n",
              "      <td>Orcasound_PodCast_Round2</td>\n",
              "      <td>1562337136</td>\n",
              "      <td>SRKWs</td>\n",
              "    </tr>\n",
              "    <tr>\n",
              "      <th>...</th>\n",
              "      <td>...</td>\n",
              "      <td>...</td>\n",
              "      <td>...</td>\n",
              "      <td>...</td>\n",
              "      <td>...</td>\n",
              "      <td>...</td>\n",
              "      <td>...</td>\n",
              "      <td>...</td>\n",
              "    </tr>\n",
              "    <tr>\n",
              "      <th>352</th>\n",
              "      <td>1562344334_000e.wav</td>\n",
              "      <td>29.699870</td>\n",
              "      <td>2.105469</td>\n",
              "      <td>orcasound_lab</td>\n",
              "      <td>2019-07-05</td>\n",
              "      <td>Orcasound_PodCast_Round2</td>\n",
              "      <td>1562344334</td>\n",
              "      <td>SRKWs</td>\n",
              "    </tr>\n",
              "    <tr>\n",
              "      <th>353</th>\n",
              "      <td>1562344334_000e.wav</td>\n",
              "      <td>43.895833</td>\n",
              "      <td>2.488281</td>\n",
              "      <td>orcasound_lab</td>\n",
              "      <td>2019-07-05</td>\n",
              "      <td>Orcasound_PodCast_Round2</td>\n",
              "      <td>1562344334</td>\n",
              "      <td>SRKWs</td>\n",
              "    </tr>\n",
              "    <tr>\n",
              "      <th>354</th>\n",
              "      <td>1562344334_000e.wav</td>\n",
              "      <td>54.295573</td>\n",
              "      <td>1.977865</td>\n",
              "      <td>orcasound_lab</td>\n",
              "      <td>2019-07-05</td>\n",
              "      <td>Orcasound_PodCast_Round2</td>\n",
              "      <td>1562344334</td>\n",
              "      <td>SRKWs</td>\n",
              "    </tr>\n",
              "    <tr>\n",
              "      <th>355</th>\n",
              "      <td>1562344334_000f.wav</td>\n",
              "      <td>7.440918</td>\n",
              "      <td>2.105469</td>\n",
              "      <td>orcasound_lab</td>\n",
              "      <td>2019-07-05</td>\n",
              "      <td>Orcasound_PodCast_Round2</td>\n",
              "      <td>1562344334</td>\n",
              "      <td>SRKWs</td>\n",
              "    </tr>\n",
              "    <tr>\n",
              "      <th>356</th>\n",
              "      <td>1562344334_001c.wav</td>\n",
              "      <td>31.534653</td>\n",
              "      <td>2.165842</td>\n",
              "      <td>orcasound_lab</td>\n",
              "      <td>2019-07-05</td>\n",
              "      <td>Orcasound_PodCast_Round2</td>\n",
              "      <td>1562344334</td>\n",
              "      <td>SRKWs</td>\n",
              "    </tr>\n",
              "  </tbody>\n",
              "</table>\n",
              "<p>357 rows × 8 columns</p>\n",
              "</div>"
            ],
            "text/plain": [
              "            wav_filename  start_time_s  ...  data_source_id  label\n",
              "0    1562337136_0004.wav     49.765625  ...      1562337136  SRKWs\n",
              "1    1562337136_0004.wav     41.046007  ...      1562337136  SRKWs\n",
              "2    1562337136_0004.wav     37.345486  ...      1562337136  SRKWs\n",
              "3    1562337136_0004.wav     42.917535  ...      1562337136  SRKWs\n",
              "4    1562337136_0004.wav     45.980035  ...      1562337136  SRKWs\n",
              "..                   ...           ...  ...             ...    ...\n",
              "352  1562344334_000e.wav     29.699870  ...      1562344334  SRKWs\n",
              "353  1562344334_000e.wav     43.895833  ...      1562344334  SRKWs\n",
              "354  1562344334_000e.wav     54.295573  ...      1562344334  SRKWs\n",
              "355  1562344334_000f.wav      7.440918  ...      1562344334  SRKWs\n",
              "356  1562344334_001c.wav     31.534653  ...      1562344334  SRKWs\n",
              "\n",
              "[357 rows x 8 columns]"
            ]
          },
          "metadata": {
            "tags": []
          },
          "execution_count": 16
        }
      ]
    },
    {
      "cell_type": "code",
      "metadata": {
        "id": "vO_A9BHu8iWM",
        "colab_type": "code",
        "outputId": "0c0d5c34-a233-4b8c-b58a-5e6d11996755",
        "colab": {
          "base_uri": "https://localhost:8080/",
          "height": 641
        }
      },
      "source": [
        "sl.is_standardized(annot_train)\n"
      ],
      "execution_count": 0,
      "outputs": [
        {
          "output_type": "stream",
          "text": [
            " Your table is not in the Ketos format.\n",
            "\n",
            "            It should have two levels of indices: filename and annot_id.\n",
            "            It should also contain at least the 'label' column.\n",
            "            If your annotations have time information, these should appear in the 'start' and 'end' columns\n",
            "\n",
            "            extra columns are allowed.\n",
            "\n",
            "            Here is a minimum example:\n",
            "\n",
            "                                 label\n",
            "            filename  annot_id                    \n",
            "            file1.wav 0          2\n",
            "                      1          1\n",
            "                      2          2\n",
            "            file2.wav 0          2\n",
            "                      1          2\n",
            "                      2          1\n",
            "\n",
            "\n",
            "            And here is a table with time information and a few extra columns ('min_freq', 'max_freq' and 'file_time_stamp')\n",
            "\n",
            "                                 start   end  label  min_freq  max_freq  file_time_stamp\n",
            "            filename  annot_id                    \n",
            "            file1.wav 0           7.0   8.1      2    180.6     294.3    2019-02-24 13:15:00\n",
            "                      1           8.5  12.5      1    174.2     258.7    2019-02-24 13:15:00\n",
            "                      2          13.1  14.0      2    183.4     292.3    2019-02-24 13:15:00\n",
            "            file2.wav 0           2.2   3.1      2    148.8     286.6    2019-02-24 13:30:00\n",
            "                      1           5.8   6.8      2    156.6     278.3    2019-02-24 13:30:00\n",
            "                      2           9.0  13.0      1    178.2     304.5    2019-02-24 13:30:00\n",
            "\n",
            "    \n",
            "    \n"
          ],
          "name": "stdout"
        },
        {
          "output_type": "execute_result",
          "data": {
            "text/plain": [
              "False"
            ]
          },
          "metadata": {
            "tags": []
          },
          "execution_count": 17
        }
      ]
    },
    {
      "cell_type": "code",
      "metadata": {
        "id": "jjJLtPq18vah",
        "colab_type": "code",
        "colab": {}
      },
      "source": [
        "#map_to_ketos_annot_std ={'wav_filename': 'filename'} \n",
        "#std_annot_train = sl.standardize(table=annot_train, signal_labels=[\"start_time_s\"], mapper=map_to_ketos_annot_std, trim_table=True)\n",
        "#std_annot_test = sl.standardize(table=annot_test, signal_labels=[\"upcall\"], mapper=map_to_ketos_annot_std, trim_table=True)\n",
        "annot_std, label_dict = sl.standardize(annot_train, mapper={'wav_filename':'filename', 'start_time':'start_time_s', 'duration':'duration_s','label':'label'}, return_label_dict=True)\n"
      ],
      "execution_count": 0,
      "outputs": []
    },
    {
      "cell_type": "code",
      "metadata": {
        "id": "3hwZHgoqylve",
        "colab_type": "code",
        "outputId": "9f4b9525-1131-4292-98c8-8b15ea16898a",
        "colab": {
          "base_uri": "https://localhost:8080/",
          "height": 603
        }
      },
      "source": [
        "annot_std"
      ],
      "execution_count": 0,
      "outputs": [
        {
          "output_type": "execute_result",
          "data": {
            "text/html": [
              "<div>\n",
              "<style scoped>\n",
              "    .dataframe tbody tr th:only-of-type {\n",
              "        vertical-align: middle;\n",
              "    }\n",
              "\n",
              "    .dataframe tbody tr th {\n",
              "        vertical-align: top;\n",
              "    }\n",
              "\n",
              "    .dataframe thead th {\n",
              "        text-align: right;\n",
              "    }\n",
              "</style>\n",
              "<table border=\"1\" class=\"dataframe\">\n",
              "  <thead>\n",
              "    <tr style=\"text-align: right;\">\n",
              "      <th></th>\n",
              "      <th></th>\n",
              "      <th>start_time_s</th>\n",
              "      <th>duration_s</th>\n",
              "      <th>location</th>\n",
              "      <th>date</th>\n",
              "      <th>data_source</th>\n",
              "      <th>data_source_id</th>\n",
              "      <th>label</th>\n",
              "    </tr>\n",
              "    <tr>\n",
              "      <th>filename</th>\n",
              "      <th>annot_id</th>\n",
              "      <th></th>\n",
              "      <th></th>\n",
              "      <th></th>\n",
              "      <th></th>\n",
              "      <th></th>\n",
              "      <th></th>\n",
              "      <th></th>\n",
              "    </tr>\n",
              "  </thead>\n",
              "  <tbody>\n",
              "    <tr>\n",
              "      <th rowspan=\"5\" valign=\"top\">1562337136_0004.wav</th>\n",
              "      <th>0</th>\n",
              "      <td>49.765625</td>\n",
              "      <td>2.450000</td>\n",
              "      <td>orcasound_lab</td>\n",
              "      <td>2019-07-05</td>\n",
              "      <td>Orcasound_PodCast_Round2</td>\n",
              "      <td>1562337136</td>\n",
              "      <td>1</td>\n",
              "    </tr>\n",
              "    <tr>\n",
              "      <th>1</th>\n",
              "      <td>41.046007</td>\n",
              "      <td>1.658854</td>\n",
              "      <td>orcasound_lab</td>\n",
              "      <td>2019-07-05</td>\n",
              "      <td>Orcasound_PodCast_Round2</td>\n",
              "      <td>1562337136</td>\n",
              "      <td>1</td>\n",
              "    </tr>\n",
              "    <tr>\n",
              "      <th>2</th>\n",
              "      <td>37.345486</td>\n",
              "      <td>1.743924</td>\n",
              "      <td>orcasound_lab</td>\n",
              "      <td>2019-07-05</td>\n",
              "      <td>Orcasound_PodCast_Round2</td>\n",
              "      <td>1562337136</td>\n",
              "      <td>1</td>\n",
              "    </tr>\n",
              "    <tr>\n",
              "      <th>3</th>\n",
              "      <td>42.917535</td>\n",
              "      <td>2.594618</td>\n",
              "      <td>orcasound_lab</td>\n",
              "      <td>2019-07-05</td>\n",
              "      <td>Orcasound_PodCast_Round2</td>\n",
              "      <td>1562337136</td>\n",
              "      <td>1</td>\n",
              "    </tr>\n",
              "    <tr>\n",
              "      <th>4</th>\n",
              "      <td>45.980035</td>\n",
              "      <td>2.041667</td>\n",
              "      <td>orcasound_lab</td>\n",
              "      <td>2019-07-05</td>\n",
              "      <td>Orcasound_PodCast_Round2</td>\n",
              "      <td>1562337136</td>\n",
              "      <td>1</td>\n",
              "    </tr>\n",
              "    <tr>\n",
              "      <th>...</th>\n",
              "      <th>...</th>\n",
              "      <td>...</td>\n",
              "      <td>...</td>\n",
              "      <td>...</td>\n",
              "      <td>...</td>\n",
              "      <td>...</td>\n",
              "      <td>...</td>\n",
              "      <td>...</td>\n",
              "    </tr>\n",
              "    <tr>\n",
              "      <th rowspan=\"3\" valign=\"top\">1562344334_000e.wav</th>\n",
              "      <th>4</th>\n",
              "      <td>29.699870</td>\n",
              "      <td>2.105469</td>\n",
              "      <td>orcasound_lab</td>\n",
              "      <td>2019-07-05</td>\n",
              "      <td>Orcasound_PodCast_Round2</td>\n",
              "      <td>1562344334</td>\n",
              "      <td>1</td>\n",
              "    </tr>\n",
              "    <tr>\n",
              "      <th>5</th>\n",
              "      <td>43.895833</td>\n",
              "      <td>2.488281</td>\n",
              "      <td>orcasound_lab</td>\n",
              "      <td>2019-07-05</td>\n",
              "      <td>Orcasound_PodCast_Round2</td>\n",
              "      <td>1562344334</td>\n",
              "      <td>1</td>\n",
              "    </tr>\n",
              "    <tr>\n",
              "      <th>6</th>\n",
              "      <td>54.295573</td>\n",
              "      <td>1.977865</td>\n",
              "      <td>orcasound_lab</td>\n",
              "      <td>2019-07-05</td>\n",
              "      <td>Orcasound_PodCast_Round2</td>\n",
              "      <td>1562344334</td>\n",
              "      <td>1</td>\n",
              "    </tr>\n",
              "    <tr>\n",
              "      <th>1562344334_000f.wav</th>\n",
              "      <th>0</th>\n",
              "      <td>7.440918</td>\n",
              "      <td>2.105469</td>\n",
              "      <td>orcasound_lab</td>\n",
              "      <td>2019-07-05</td>\n",
              "      <td>Orcasound_PodCast_Round2</td>\n",
              "      <td>1562344334</td>\n",
              "      <td>1</td>\n",
              "    </tr>\n",
              "    <tr>\n",
              "      <th>1562344334_001c.wav</th>\n",
              "      <th>0</th>\n",
              "      <td>31.534653</td>\n",
              "      <td>2.165842</td>\n",
              "      <td>orcasound_lab</td>\n",
              "      <td>2019-07-05</td>\n",
              "      <td>Orcasound_PodCast_Round2</td>\n",
              "      <td>1562344334</td>\n",
              "      <td>1</td>\n",
              "    </tr>\n",
              "  </tbody>\n",
              "</table>\n",
              "<p>357 rows × 7 columns</p>\n",
              "</div>"
            ],
            "text/plain": [
              "                              start_time_s  duration_s  ... data_source_id label\n",
              "filename            annot_id                            ...                     \n",
              "1562337136_0004.wav 0            49.765625    2.450000  ...     1562337136     1\n",
              "                    1            41.046007    1.658854  ...     1562337136     1\n",
              "                    2            37.345486    1.743924  ...     1562337136     1\n",
              "                    3            42.917535    2.594618  ...     1562337136     1\n",
              "                    4            45.980035    2.041667  ...     1562337136     1\n",
              "...                                    ...         ...  ...            ...   ...\n",
              "1562344334_000e.wav 4            29.699870    2.105469  ...     1562344334     1\n",
              "                    5            43.895833    2.488281  ...     1562344334     1\n",
              "                    6            54.295573    1.977865  ...     1562344334     1\n",
              "1562344334_000f.wav 0             7.440918    2.105469  ...     1562344334     1\n",
              "1562344334_001c.wav 0            31.534653    2.165842  ...     1562344334     1\n",
              "\n",
              "[357 rows x 7 columns]"
            ]
          },
          "metadata": {
            "tags": []
          },
          "execution_count": 19
        }
      ]
    },
    {
      "cell_type": "code",
      "metadata": {
        "id": "o1iEi_KF-4IY",
        "colab_type": "code",
        "colab": {}
      },
      "source": [
        "spec_cfg = load_audio_representation('/content/Round2_OS_07_05/spec_config.json', name=\"spectrogram\")\n"
      ],
      "execution_count": 0,
      "outputs": []
    },
    {
      "cell_type": "code",
      "metadata": {
        "id": "7_4w5lZlvVUY",
        "colab_type": "code",
        "outputId": "4ff35d1d-0d17-436b-c93e-d22413a963fb",
        "colab": {
          "base_uri": "https://localhost:8080/",
          "height": 34
        }
      },
      "source": [
        "label_dict"
      ],
      "execution_count": 0,
      "outputs": [
        {
          "output_type": "execute_result",
          "data": {
            "text/plain": [
              "{'SRKWs': 1}"
            ]
          },
          "metadata": {
            "tags": []
          },
          "execution_count": 22
        }
      ]
    },
    {
      "cell_type": "code",
      "metadata": {
        "id": "PQkDZhzuvVQT",
        "colab_type": "code",
        "outputId": "891c3ba5-550b-4791-d8e9-8c6ed4a93bc6",
        "colab": {
          "base_uri": "https://localhost:8080/",
          "height": 141
        }
      },
      "source": [
        "spec_cfg"
      ],
      "execution_count": 0,
      "outputs": [
        {
          "output_type": "execute_result",
          "data": {
            "text/plain": [
              "{'freq_max': 500,\n",
              " 'freq_min': 0,\n",
              " 'rate': 1000,\n",
              " 'step': 0.032,\n",
              " 'type': 'MagSpectrogram',\n",
              " 'window': 0.256,\n",
              " 'window_func': 'hamming'}"
            ]
          },
          "metadata": {
            "tags": []
          },
          "execution_count": 23
        }
      ]
    },
    {
      "cell_type": "code",
      "metadata": {
        "id": "DOVIn_3XvVJ4",
        "colab_type": "code",
        "colab": {}
      },
      "source": [
        ""
      ],
      "execution_count": 0,
      "outputs": []
    },
    {
      "cell_type": "code",
      "metadata": {
        "id": "dx_N3goGkG6d",
        "colab_type": "code",
        "outputId": "6cda63ed-bbeb-41cb-d9c2-fb940cee0d25",
        "colab": {
          "base_uri": "https://localhost:8080/",
          "height": 52
        }
      },
      "source": [
        "dbi.create_database(output_file='database.h5', data_dir='/content/Round2_OS_07_05/wav',\n",
        "                               dataset_name='wav',selections=annot_std,\n",
        "                               audio_repres=spec_cfg)\n",
        "                              "
      ],
      "execution_count": 0,
      "outputs": [
        {
          "output_type": "stream",
          "text": [
            "100%|██████████| 357/357 [02:24<00:00,  2.46it/s]"
          ],
          "name": "stderr"
        },
        {
          "output_type": "stream",
          "text": [
            "357 items saved to database.h5\n"
          ],
          "name": "stdout"
        },
        {
          "output_type": "stream",
          "text": [
            "\n"
          ],
          "name": "stderr"
        }
      ]
    },
    {
      "cell_type": "code",
      "metadata": {
        "id": "3sham9U4s40g",
        "colab_type": "code",
        "colab": {}
      },
      "source": [
        "db = dbi.open_file(\"database.h5\", 'r')\n"
      ],
      "execution_count": 0,
      "outputs": []
    },
    {
      "cell_type": "code",
      "metadata": {
        "id": "KC2MrNMXAXPQ",
        "colab_type": "code",
        "outputId": "cd93fc08-5b13-4e85-eb4b-eb988dfe1be6",
        "colab": {
          "base_uri": "https://localhost:8080/",
          "height": 250
        }
      },
      "source": [
        "db"
      ],
      "execution_count": 0,
      "outputs": [
        {
          "output_type": "execute_result",
          "data": {
            "text/plain": [
              "File(filename=database.h5, title='', mode='r', root_uep='/', filters=Filters(complevel=0, shuffle=False, bitshuffle=False, fletcher32=False, least_significant_digit=None))\n",
              "/ (RootGroup) ''\n",
              "/wav (Group) ''\n",
              "/wav/data (Table(357,), fletcher32, shuffle, zlib(1)) ''\n",
              "  description := {\n",
              "  \"data\": Float32Col(shape=(1913, 129), dflt=0.0, pos=0),\n",
              "  \"filename\": StringCol(itemsize=100, shape=(), dflt=b'', pos=1),\n",
              "  \"id\": UInt32Col(shape=(), dflt=0, pos=2),\n",
              "  \"label\": UInt8Col(shape=(), dflt=0, pos=3),\n",
              "  \"offset\": Float64Col(shape=(), dflt=0.0, pos=4)}\n",
              "  byteorder := 'little'\n",
              "  chunkshape := (1,)"
            ]
          },
          "metadata": {
            "tags": []
          },
          "execution_count": 26
        }
      ]
    },
    {
      "cell_type": "code",
      "metadata": {
        "id": "zF4gZOslG99K",
        "colab_type": "code",
        "colab": {}
      },
      "source": [
        "db.close()"
      ],
      "execution_count": 0,
      "outputs": []
    },
    {
      "cell_type": "code",
      "metadata": {
        "id": "VoFbNCoFqWOI",
        "colab_type": "code",
        "colab": {}
      },
      "source": [
        ""
      ],
      "execution_count": 0,
      "outputs": []
    },
    {
      "cell_type": "code",
      "metadata": {
        "id": "MsfnMbo2qW30",
        "colab_type": "code",
        "colab": {}
      },
      "source": [
        ""
      ],
      "execution_count": 0,
      "outputs": []
    }
  ]
}